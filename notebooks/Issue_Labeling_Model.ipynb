{
 "cells": [
  {
   "cell_type": "markdown",
   "metadata": {},
   "source": [
    "## Background\n",
    "\n",
    "The goal of the MLapp project is to provide the following:\n",
    "\n",
    "1. Illustrate how to build machine learning powered developer tools using the [GitHub Api](https://developer.github.com/v3/) and Flask.  We would like to show data scientists how to build exciting data products using machine learning on the GitHub marketplace, that developers can use.  Specifically, we will build an illustrative data product that will automatically label issues.  \n",
    "\n",
    "2. Use Argo & Kubeflow to process the data, train the model, and serve the predictions. \n",
    "\n",
    "3. Gather feedback and iterate \n",
    "\n",
    "\n",
    "The scope of this notebook is to addresses part of goal #1, by illustrating how we can acquire a dataset of GitHub issue labels and train a classifier.  \n",
    "\n",
    "The top issues on GitHub by count are illustrated in [this spreadsheet](https://docs.google.com/spreadsheets/d/1NPacnVsyZMBneeewvPGhCx512A1RPYf8ktDN_RpKeS4/edit?usp=sharing).  To keep things simple, we will build a model to classify an issue as a `bug`, `feature` or `question`.  We use hueristics to collapse a set of issue labels into these three categories, which can be viewed [in this query](https://console.cloud.google.com/bigquery?sq=123474043329:01abf8866144486f932c756730ddaff1).  \n",
    "\n",
    "The heueristic for these class labels are contained within the below case statement:\n",
    "\n",
    "```{sql}\n",
    "  CASE when labels like '%bug%' and labels not like '%not bug%' then True else False end as Bug_Flag,\n",
    "  CASE when labels like '%feature%' or labels like '%enhancement%' or labels like '%improvement%' or labels like '%request%' then True else False end as Feature_Flag,\n",
    "  CASE when labels like '%question%' or labels like '%discussion%' then True else False end as Question_Flag,\n",
    "```\n",
    "    the above case statement is located within [this query](https://console.cloud.google.com/bigquery?sq=123474043329:01abf8866144486f932c756730ddaff1)\n",
    "    \n",
    "\n",
    "The following alternative projects were tried before this task that we did not pursue further:\n",
    " - Transfer learning using the [GitHub Issue Summarizer](https://github.com/hamelsmu/Seq2Seq_Tutorial) to enable the prediction of custom labels on existing repos.  Found that this did not work well as there is a considerable amount of noise with regards to custom labels in repositories and often not enough data to adequately predict this.  \n",
    " - Tried to classify more than the above three classes, however the human-labeled issues are very subjective and it is not clear what is a question vs. a bug.  \n",
    " - Tried multi-label classification since labels can co-occur.  There is very little overlap between `bug`, `feature` and `question` labels, so we decided to simplify things and make this a multi-class classificaiton problem instead.  \n",
    "\n",
    "\n",
    "Note: the code in this notebook was executed on a [p3.8xlarge](https://aws.amazon.com/ec2/instance-types/p3/) instance on AWS.\n",
    "\n",
    "## Outline \n",
    "\n",
    "This notebook will follow these steps:\n",
    "\n",
    "1. Download and partition dataset\n",
    "2. Pre-process dataset\n",
    "2. Build model architecture\n",
    "3. Train the model\n"
   ]
  },
  {
   "cell_type": "markdown",
   "metadata": {},
   "source": [
    "# Download and Partition Dataset"
   ]
  },
  {
   "cell_type": "code",
   "execution_count": 6,
   "metadata": {},
   "outputs": [],
   "source": [
    "import pandas as pd\n",
    "from sklearn.model_selection import train_test_split\n",
    "\n",
    "pd.set_option('max_colwidth', 1000)"
   ]
  },
  {
   "cell_type": "code",
   "execution_count": 4,
   "metadata": {},
   "outputs": [
    {
     "name": "stdout",
     "output_type": "stream",
     "text": [
      "Train: 2,698,578 rows 10 columns\n",
      "Test: 476,220 rows 10 columns\n"
     ]
    }
   ],
   "source": [
    "df = pd.concat([pd.read_csv(f'https://storage.googleapis.com/codenet/issue_labels/00000000000{i}.csv.gz')\n",
    "                for i in range(10)])\n",
    "\n",
    "#split data into train/test\n",
    "traindf, testdf = train_test_split(df, test_size=.15)\n",
    "\n",
    "traindf.to_pickle('traindf.pkl')\n",
    "testdf.to_pickle('testdf.pkl')\n",
    "\n",
    "#print out stats about shape of data\n",
    "print(f'Train: {traindf.shape[0]:,} rows {traindf.shape[1]:,} columns')\n",
    "print(f'Test: {testdf.shape[0]:,} rows {testdf.shape[1]:,} columns')"
   ]
  },
  {
   "cell_type": "code",
   "execution_count": 15,
   "metadata": {},
   "outputs": [],
   "source": [
    "class_names = ['bug', 'feature', 'question']"
   ]
  },
  {
   "cell_type": "markdown",
   "metadata": {},
   "source": [
    "### Discussion of the data"
   ]
  },
  {
   "cell_type": "code",
   "execution_count": 7,
   "metadata": {},
   "outputs": [
    {
     "data": {
      "text/html": [
       "<div>\n",
       "<style scoped>\n",
       "    .dataframe tbody tr th:only-of-type {\n",
       "        vertical-align: middle;\n",
       "    }\n",
       "\n",
       "    .dataframe tbody tr th {\n",
       "        vertical-align: top;\n",
       "    }\n",
       "\n",
       "    .dataframe thead th {\n",
       "        text-align: right;\n",
       "    }\n",
       "</style>\n",
       "<table border=\"1\" class=\"dataframe\">\n",
       "  <thead>\n",
       "    <tr style=\"text-align: right;\">\n",
       "      <th></th>\n",
       "      <th>url</th>\n",
       "      <th>repo</th>\n",
       "      <th>title</th>\n",
       "      <th>body</th>\n",
       "      <th>num_labels</th>\n",
       "      <th>labels</th>\n",
       "      <th>c_bug</th>\n",
       "      <th>c_feature</th>\n",
       "      <th>c_question</th>\n",
       "      <th>class_int</th>\n",
       "    </tr>\n",
       "  </thead>\n",
       "  <tbody>\n",
       "    <tr>\n",
       "      <th>112473</th>\n",
       "      <td>\"https://github.com/DockStation/dockstation/issues/6\"</td>\n",
       "      <td>DockStation/dockstation</td>\n",
       "      <td>feature request: image layers window hide</td>\n",
       "      <td>some feedback for this window:\\r \\r ! image  https://cloud.githubusercontent.com/assets/9369080/25952392/3769f842-3669-11e7-8a91-4ed2de640246.png \\r \\r \\r it's really cool, but blocking.  i think users would prefer to be able hide it  the \\ ok\\  was not hiding it in my case - don't know if it should?</td>\n",
       "      <td>2</td>\n",
       "      <td>[\"enhancement\", \"wish\"]</td>\n",
       "      <td>False</td>\n",
       "      <td>True</td>\n",
       "      <td>False</td>\n",
       "      <td>1</td>\n",
       "    </tr>\n",
       "    <tr>\n",
       "      <th>33329</th>\n",
       "      <td>\"https://github.com/julianschritt/secreth_telegrambot/issues/2\"</td>\n",
       "      <td>julianschritt/secreth_telegrambot</td>\n",
       "      <td>grant group admins permissions to /cancelgame and /startgame</td>\n",
       "      <td>ending a game requires the person who started it to end it. even kicking and re-adding the bot doesn't close an existing game. so if the person who started a game is afk for a long time the bot becomes useless for that group.</td>\n",
       "      <td>1</td>\n",
       "      <td>[\"enhancement\", \"enhancement\"]</td>\n",
       "      <td>False</td>\n",
       "      <td>True</td>\n",
       "      <td>False</td>\n",
       "      <td>1</td>\n",
       "    </tr>\n",
       "    <tr>\n",
       "      <th>95978</th>\n",
       "      <td>\"https://github.com/remotestorage/remotestorage-bookmarks-chrome/issues/3\"</td>\n",
       "      <td>remotestorage/remotestorage-bookmarks-chrome</td>\n",
       "      <td>deprecate in favor of memm?</td>\n",
       "      <td>this thing is super old and nobody's actively maintaining it. i don't know if someone's actively using it, but i think it would make sense to direct people coming here to https://github.com/lesion/memm, which works and is maintained by @lesion, who's also a core contributor to rs.js.</td>\n",
       "      <td>1</td>\n",
       "      <td>[\"question\"]</td>\n",
       "      <td>False</td>\n",
       "      <td>False</td>\n",
       "      <td>True</td>\n",
       "      <td>2</td>\n",
       "    </tr>\n",
       "  </tbody>\n",
       "</table>\n",
       "</div>"
      ],
      "text/plain": [
       "                                                                               url  \\\n",
       "112473                       \"https://github.com/DockStation/dockstation/issues/6\"   \n",
       "33329              \"https://github.com/julianschritt/secreth_telegrambot/issues/2\"   \n",
       "95978   \"https://github.com/remotestorage/remotestorage-bookmarks-chrome/issues/3\"   \n",
       "\n",
       "                                                repo  \\\n",
       "112473                       DockStation/dockstation   \n",
       "33329              julianschritt/secreth_telegrambot   \n",
       "95978   remotestorage/remotestorage-bookmarks-chrome   \n",
       "\n",
       "                                                               title  \\\n",
       "112473                     feature request: image layers window hide   \n",
       "33329   grant group admins permissions to /cancelgame and /startgame   \n",
       "95978                                    deprecate in favor of memm?   \n",
       "\n",
       "                                                                                                                                                                                                                                                                                                                 body  \\\n",
       "112473  some feedback for this window:\\r \\r ! image  https://cloud.githubusercontent.com/assets/9369080/25952392/3769f842-3669-11e7-8a91-4ed2de640246.png \\r \\r \\r it's really cool, but blocking.  i think users would prefer to be able hide it  the \\ ok\\  was not hiding it in my case - don't know if it should?   \n",
       "33329                                                                               ending a game requires the person who started it to end it. even kicking and re-adding the bot doesn't close an existing game. so if the person who started a game is afk for a long time the bot becomes useless for that group.   \n",
       "95978                    this thing is super old and nobody's actively maintaining it. i don't know if someone's actively using it, but i think it would make sense to direct people coming here to https://github.com/lesion/memm, which works and is maintained by @lesion, who's also a core contributor to rs.js.   \n",
       "\n",
       "        num_labels                          labels  c_bug  c_feature  \\\n",
       "112473           2         [\"enhancement\", \"wish\"]  False       True   \n",
       "33329            1  [\"enhancement\", \"enhancement\"]  False       True   \n",
       "95978            1                    [\"question\"]  False      False   \n",
       "\n",
       "        c_question  class_int  \n",
       "112473       False          1  \n",
       "33329        False          1  \n",
       "95978         True          2  "
      ]
     },
     "execution_count": 7,
     "metadata": {},
     "output_type": "execute_result"
    }
   ],
   "source": [
    "# preview data\n",
    "traindf.head(3)"
   ]
  },
  {
   "cell_type": "markdown",
   "metadata": {},
   "source": [
    "Discussion of the data:  \n",
    "\n",
    "- url:        url where you can find this issue\n",
    "- repo:       owner/repo name\n",
    "- title:      title of the issue\n",
    "- body:       body of the issue, not including comments\n",
    "- num_labels: number of issue labels\n",
    "- labels:     an array of labels applied to the issue reprsented as a string\n",
    "- c_bug:      boolean flag that indicates if the issue label corresponds to a bug\n",
    "- c_feature:  boolean flag that indicates if the issue label corresponds to a feature\n",
    "- c_question: boolean flag that indicates if the issue label corresponds to a question\n",
    "- class_int:  integer between 0 - 2 that corresponds to the class label.  **0=bug, 1=feature, 2=question**"
   ]
  },
  {
   "cell_type": "markdown",
   "metadata": {},
   "source": [
    "### Summary Statistics"
   ]
  },
  {
   "cell_type": "markdown",
   "metadata": {},
   "source": [
    "Class frequency **0=bug, 1=feature, 2=question**"
   ]
  },
  {
   "cell_type": "code",
   "execution_count": 14,
   "metadata": {},
   "outputs": [
    {
     "data": {
      "text/plain": [
       "class_int\n",
       "0    1211335\n",
       "1    1231499\n",
       "2     255744\n",
       "dtype: int64"
      ]
     },
     "execution_count": 14,
     "metadata": {},
     "output_type": "execute_result"
    }
   ],
   "source": [
    "traindf.groupby('class_int').size()"
   ]
  },
  {
   "cell_type": "markdown",
   "metadata": {},
   "source": [
    "number of unique repos"
   ]
  },
  {
   "cell_type": "code",
   "execution_count": 28,
   "metadata": {},
   "outputs": [
    {
     "name": "stdout",
     "output_type": "stream",
     "text": [
      " Avg # of issues per repo: 7.6\n",
      " Avg # of issues per org: 8.7\n"
     ]
    }
   ],
   "source": [
    "print(f' Avg # of issues per repo: {len(traindf) / traindf.repo.nunique():.1f}')\n",
    "print(f\" Avg # of issues per org: {len(traindf) / traindf.repo.apply(lambda x: x.split('/')[-1]).nunique():.1f}\")"
   ]
  },
  {
   "cell_type": "code",
   "execution_count": 38,
   "metadata": {},
   "outputs": [
    {
     "data": {
      "text/html": [
       "<div>\n",
       "<style scoped>\n",
       "    .dataframe tbody tr th:only-of-type {\n",
       "        vertical-align: middle;\n",
       "    }\n",
       "\n",
       "    .dataframe tbody tr th {\n",
       "        vertical-align: top;\n",
       "    }\n",
       "\n",
       "    .dataframe thead th {\n",
       "        text-align: right;\n",
       "    }\n",
       "</style>\n",
       "<table border=\"1\" class=\"dataframe\">\n",
       "  <thead>\n",
       "    <tr style=\"text-align: right;\">\n",
       "      <th></th>\n",
       "      <th>pcnt</th>\n",
       "      <th>count</th>\n",
       "    </tr>\n",
       "    <tr>\n",
       "      <th>repo</th>\n",
       "      <th></th>\n",
       "      <th></th>\n",
       "    </tr>\n",
       "  </thead>\n",
       "  <tbody>\n",
       "    <tr>\n",
       "      <th>Microsoft/vscode</th>\n",
       "      <td>0.005128</td>\n",
       "      <td>16281</td>\n",
       "    </tr>\n",
       "    <tr>\n",
       "      <th>rancher/rancher</th>\n",
       "      <td>0.002450</td>\n",
       "      <td>7779</td>\n",
       "    </tr>\n",
       "    <tr>\n",
       "      <th>MicrosoftDocs/azure-docs</th>\n",
       "      <td>0.001963</td>\n",
       "      <td>6233</td>\n",
       "    </tr>\n",
       "    <tr>\n",
       "      <th>godotengine/godot</th>\n",
       "      <td>0.001952</td>\n",
       "      <td>6198</td>\n",
       "    </tr>\n",
       "    <tr>\n",
       "      <th>ansible/ansible</th>\n",
       "      <td>0.001950</td>\n",
       "      <td>6192</td>\n",
       "    </tr>\n",
       "    <tr>\n",
       "      <th>hashicorp/terraform</th>\n",
       "      <td>0.001649</td>\n",
       "      <td>5235</td>\n",
       "    </tr>\n",
       "    <tr>\n",
       "      <th>kubernetes/kubernetes</th>\n",
       "      <td>0.001621</td>\n",
       "      <td>5147</td>\n",
       "    </tr>\n",
       "    <tr>\n",
       "      <th>lionheart/openradar-mirror</th>\n",
       "      <td>0.001330</td>\n",
       "      <td>4221</td>\n",
       "    </tr>\n",
       "    <tr>\n",
       "      <th>elastic/kibana</th>\n",
       "      <td>0.001201</td>\n",
       "      <td>3813</td>\n",
       "    </tr>\n",
       "    <tr>\n",
       "      <th>magento/magento2</th>\n",
       "      <td>0.001129</td>\n",
       "      <td>3583</td>\n",
       "    </tr>\n",
       "    <tr>\n",
       "      <th>dart-lang/sdk</th>\n",
       "      <td>0.001127</td>\n",
       "      <td>3579</td>\n",
       "    </tr>\n",
       "    <tr>\n",
       "      <th>dotnet/corefx</th>\n",
       "      <td>0.001121</td>\n",
       "      <td>3558</td>\n",
       "    </tr>\n",
       "    <tr>\n",
       "      <th>eclipse/che</th>\n",
       "      <td>0.001114</td>\n",
       "      <td>3538</td>\n",
       "    </tr>\n",
       "    <tr>\n",
       "      <th>brave/browser-laptop</th>\n",
       "      <td>0.001067</td>\n",
       "      <td>3389</td>\n",
       "    </tr>\n",
       "    <tr>\n",
       "      <th>kbower/tickettest1</th>\n",
       "      <td>0.000920</td>\n",
       "      <td>2921</td>\n",
       "    </tr>\n",
       "    <tr>\n",
       "      <th>Kademi/kademi-dev</th>\n",
       "      <td>0.000887</td>\n",
       "      <td>2815</td>\n",
       "    </tr>\n",
       "    <tr>\n",
       "      <th>owncloud/core</th>\n",
       "      <td>0.000819</td>\n",
       "      <td>2600</td>\n",
       "    </tr>\n",
       "    <tr>\n",
       "      <th>elastic/elasticsearch</th>\n",
       "      <td>0.000809</td>\n",
       "      <td>2568</td>\n",
       "    </tr>\n",
       "    <tr>\n",
       "      <th>eslint/eslint</th>\n",
       "      <td>0.000765</td>\n",
       "      <td>2428</td>\n",
       "    </tr>\n",
       "    <tr>\n",
       "      <th>angular/angular</th>\n",
       "      <td>0.000719</td>\n",
       "      <td>2283</td>\n",
       "    </tr>\n",
       "    <tr>\n",
       "      <th>openshift/origin</th>\n",
       "      <td>0.000717</td>\n",
       "      <td>2277</td>\n",
       "    </tr>\n",
       "    <tr>\n",
       "      <th>CartoDB/cartodb</th>\n",
       "      <td>0.000685</td>\n",
       "      <td>2174</td>\n",
       "    </tr>\n",
       "    <tr>\n",
       "      <th>cockroachdb/cockroach</th>\n",
       "      <td>0.000655</td>\n",
       "      <td>2081</td>\n",
       "    </tr>\n",
       "    <tr>\n",
       "      <th>RocketChat/Rocket.Chat</th>\n",
       "      <td>0.000650</td>\n",
       "      <td>2065</td>\n",
       "    </tr>\n",
       "    <tr>\n",
       "      <th>Microsoft/AL</th>\n",
       "      <td>0.000647</td>\n",
       "      <td>2055</td>\n",
       "    </tr>\n",
       "  </tbody>\n",
       "</table>\n",
       "</div>"
      ],
      "text/plain": [
       "                                pcnt  count\n",
       "repo                                       \n",
       "Microsoft/vscode            0.005128  16281\n",
       "rancher/rancher             0.002450   7779\n",
       "MicrosoftDocs/azure-docs    0.001963   6233\n",
       "godotengine/godot           0.001952   6198\n",
       "ansible/ansible             0.001950   6192\n",
       "hashicorp/terraform         0.001649   5235\n",
       "kubernetes/kubernetes       0.001621   5147\n",
       "lionheart/openradar-mirror  0.001330   4221\n",
       "elastic/kibana              0.001201   3813\n",
       "magento/magento2            0.001129   3583\n",
       "dart-lang/sdk               0.001127   3579\n",
       "dotnet/corefx               0.001121   3558\n",
       "eclipse/che                 0.001114   3538\n",
       "brave/browser-laptop        0.001067   3389\n",
       "kbower/tickettest1          0.000920   2921\n",
       "Kademi/kademi-dev           0.000887   2815\n",
       "owncloud/core               0.000819   2600\n",
       "elastic/elasticsearch       0.000809   2568\n",
       "eslint/eslint               0.000765   2428\n",
       "angular/angular             0.000719   2283\n",
       "openshift/origin            0.000717   2277\n",
       "CartoDB/cartodb             0.000685   2174\n",
       "cockroachdb/cockroach       0.000655   2081\n",
       "RocketChat/Rocket.Chat      0.000650   2065\n",
       "Microsoft/AL                0.000647   2055"
      ]
     },
     "execution_count": 38,
     "metadata": {},
     "output_type": "execute_result"
    }
   ],
   "source": [
    "pareto_df = pd.DataFrame({'pcnt': df.groupby('repo').size() / len(df), 'count': df.groupby('repo').size()})\n",
    "pareto_df.sort_values('pcnt', ascending=False).head(25)"
   ]
  },
  {
   "cell_type": "markdown",
   "metadata": {},
   "source": [
    "# Pre-Process Data"
   ]
  },
  {
   "cell_type": "markdown",
   "metadata": {},
   "source": [
    "To process the raw text data, we will use [ktext](https://github.com/hamelsmu/ktext)"
   ]
  },
  {
   "cell_type": "code",
   "execution_count": 50,
   "metadata": {},
   "outputs": [],
   "source": [
    "from ktext.preprocess import processor\n",
    "import dill as dpickle\n",
    "import numpy as np"
   ]
  },
  {
   "cell_type": "markdown",
   "metadata": {},
   "source": [
    "Clean, tokenize, and apply padding / truncating such that each document length = 75th percentile for the dataset.\n",
    "Retain only the top keep_n words in the vocabulary and set the remaining words to 1 which will become common index for rare words.\n",
    "\n",
    "**Warning:** the below block of code can take a long time to execute.\n",
    "\n",
    "#### Learn the vocabulary from the training dataset"
   ]
  },
  {
   "cell_type": "code",
   "execution_count": 40,
   "metadata": {},
   "outputs": [
    {
     "name": "stderr",
     "output_type": "stream",
     "text": [
      "WARNING:root:....tokenizing data\n",
      "WARNING:root:Setting maximum document length to 105 based upon hueristic of 0.75 percentile.\n",
      " See full histogram by insepecting the `document_length_stats` attribute.\n",
      "WARNING:root:(1/2) done. 855 sec\n",
      "WARNING:root:....building corpus\n",
      "WARNING:root:(2/2) done. 145 sec\n",
      "WARNING:root:Finished parsing 2,698,578 documents.\n",
      "WARNING:root:...fit is finished, beginning transform\n",
      "WARNING:root:...padding data\n",
      "WARNING:root:done. 102 sec\n",
      "WARNING:root:....tokenizing data\n",
      "WARNING:root:Setting maximum document length to 10 based upon hueristic of 0.75 percentile.\n",
      " See full histogram by insepecting the `document_length_stats` attribute.\n",
      "WARNING:root:(1/2) done. 66 sec\n",
      "WARNING:root:....building corpus\n",
      "WARNING:root:(2/2) done. 17 sec\n",
      "WARNING:root:Finished parsing 2,698,578 documents.\n",
      "WARNING:root:...fit is finished, beginning transform\n",
      "WARNING:root:...padding data\n",
      "WARNING:root:done. 23 sec\n"
     ]
    },
    {
     "name": "stdout",
     "output_type": "stream",
     "text": [
      "CPU times: user 8min 8s, sys: 32.3 s, total: 8min 40s\n",
      "Wall time: 20min 24s\n"
     ]
    }
   ],
   "source": [
    "%%time\n",
    "\n",
    "train_body_raw = traindf.body.tolist()\n",
    "train_title_raw = traindf.title.tolist()\n",
    "\n",
    "# Clean, tokenize, and apply padding / truncating such that each document length = 75th percentile for the dataset.\n",
    "#  also, retain only the top keep_n words in the vocabulary and set the remaining words\n",
    "#  to 1 which will become common index for rare words \n",
    "\n",
    "# process the issue body data\n",
    "body_pp = processor(hueristic_pct_padding=.75, keep_n=8000)\n",
    "train_body_vecs = body_pp.fit_transform(train_body_raw)\n",
    "\n",
    "# process the title data\n",
    "title_pp = processor(hueristic_pct_padding=.75, keep_n=4500)\n",
    "train_title_vecs = title_pp.fit_transform(train_title_raw)"
   ]
  },
  {
   "cell_type": "markdown",
   "metadata": {},
   "source": [
    "#### Apply transformations to Test Data"
   ]
  },
  {
   "cell_type": "code",
   "execution_count": 41,
   "metadata": {},
   "outputs": [
    {
     "name": "stderr",
     "output_type": "stream",
     "text": [
      "WARNING:root:...tokenizing data\n",
      "WARNING:root:...indexing data\n",
      "WARNING:root:...padding data\n",
      "WARNING:root:...tokenizing data\n",
      "WARNING:root:...indexing data\n",
      "WARNING:root:...padding data\n"
     ]
    },
    {
     "name": "stdout",
     "output_type": "stream",
     "text": [
      "CPU times: user 57.5 s, sys: 31 s, total: 1min 28s\n",
      "Wall time: 4min 16s\n"
     ]
    }
   ],
   "source": [
    "%%time\n",
    "\n",
    "test_body_raw = testdf.body.tolist()\n",
    "test_title_raw = testdf.title.tolist()\n",
    "\n",
    "test_body_vecs = body_pp.transform_parallel(test_body_raw)\n",
    "test_title_vecs = title_pp.transform_parallel(test_title_raw)"
   ]
  },
  {
   "cell_type": "markdown",
   "metadata": {},
   "source": [
    "#### Extract Labels\n",
    "\n",
    "Add an additional dimension to the end to facilitate compatibility with Keras."
   ]
  },
  {
   "cell_type": "code",
   "execution_count": 53,
   "metadata": {},
   "outputs": [],
   "source": [
    "train_labels = np.expand_dims(traindf.class_int.values, -1)\n",
    "test_labels = np.expand_dims(testdf.class_int.values, -1)"
   ]
  },
  {
   "cell_type": "markdown",
   "metadata": {},
   "source": [
    "#### Check shapes"
   ]
  },
  {
   "cell_type": "code",
   "execution_count": 54,
   "metadata": {},
   "outputs": [],
   "source": [
    "assert train_body_vecs.shape[0] == train_title_vecs.shape[0] == train_labels.shape[0]\n",
    "assert test_body_vecs.shape[0] == test_title_vecs.shape[0] == test_labels.shape[0]"
   ]
  },
  {
   "cell_type": "markdown",
   "metadata": {},
   "source": [
    "#### Save pre-processors and data to disk"
   ]
  },
  {
   "cell_type": "code",
   "execution_count": 55,
   "metadata": {},
   "outputs": [],
   "source": [
    "# Save the preprocessor\n",
    "with open('body_pp.dpkl', 'wb') as f:\n",
    "    dpickle.dump(body_pp, f)\n",
    "\n",
    "with open('title_pp.dpkl', 'wb') as f:\n",
    "    dpickle.dump(title_pp, f)\n",
    "\n",
    "# Save the processed data\n",
    "np.save('train_title_vecs.npy', train_title_vecs)\n",
    "np.save('train_body_vecs.npy', train_body_vecs)\n",
    "np.save('test_body_vecs.npy', test_body_vecs)\n",
    "np.save('test_title_vecs.npy', test_title_vecs)\n",
    "np.save('train_labels.npy', train_labels)\n",
    "np.save('test_labels.npy', test_labels)"
   ]
  },
  {
   "cell_type": "markdown",
   "metadata": {},
   "source": [
    "# Build Model Architecture"
   ]
  },
  {
   "cell_type": "code",
   "execution_count": null,
   "metadata": {},
   "outputs": [],
   "source": []
  }
 ],
 "metadata": {
  "kernelspec": {
   "display_name": "Python 3",
   "language": "python",
   "name": "python3"
  },
  "language_info": {
   "codemirror_mode": {
    "name": "ipython",
    "version": 3
   },
   "file_extension": ".py",
   "mimetype": "text/x-python",
   "name": "python",
   "nbconvert_exporter": "python",
   "pygments_lexer": "ipython3",
   "version": "3.6.7"
  }
 },
 "nbformat": 4,
 "nbformat_minor": 2
}
