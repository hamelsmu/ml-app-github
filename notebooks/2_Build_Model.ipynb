{
 "cells": [
  {
   "cell_type": "code",
   "execution_count": 2,
   "metadata": {},
   "outputs": [],
   "source": [
    "import os\n",
    "os.environ[\"CUDA_DEVICE_ORDER\"] = \"PCI_BUS_ID\" # so the IDs match nvidia-smi\n",
    "os.environ[\"CUDA_VISIBLE_DEVICES\"] = \"0\" # \"0, 1\" for multiple"
   ]
  },
  {
   "cell_type": "markdown",
   "metadata": {},
   "source": [
    "# Load the data"
   ]
  },
  {
   "cell_type": "code",
   "execution_count": 1,
   "metadata": {},
   "outputs": [
    {
     "name": "stdout",
     "output_type": "stream",
     "text": [
      "1_Download_and_Preprocess.ipynb\t\t    body_pp.dpkl\r\n",
      "2_Build_Model.ipynb\t\t\t    labeled_issues_df.pkl\r\n",
      "Demo.ipynb\t\t\t\t    test_body_vecs.npy\r\n",
      "IssueLabeler.epoch01-val0.84455.hdf5\t    test_labels.npy\r\n",
      "IssueLabeler.epoch01-val0.86108.hdf5\t    test_title_vecs.npy\r\n",
      "IssueLabeler.epoch02-val0.84564.hdf5\t    testdf.pkl\r\n",
      "IssueLabeler.epoch03-val0.83802.hdf5\t    title_pp.dpkl\r\n",
      "IssueLabeler.log\t\t\t    train_body_vecs.npy\r\n",
      "IssueLabeler_nbow_.epoch01-val0.89053.hdf5  train_labels.npy\r\n",
      "IssueLabeler_nbow_.epoch02-val0.87182.hdf5  train_title_vecs.npy\r\n",
      "IssueLabeler_nbow_.log\t\t\t    traindf.pkl\r\n"
     ]
    }
   ],
   "source": [
    "! ls"
   ]
  },
  {
   "cell_type": "code",
   "execution_count": 2,
   "metadata": {},
   "outputs": [],
   "source": [
    "import numpy as np\n",
    "import dill as dpickle"
   ]
  },
  {
   "cell_type": "code",
   "execution_count": 3,
   "metadata": {},
   "outputs": [
    {
     "name": "stderr",
     "output_type": "stream",
     "text": [
      "Using TensorFlow backend.\n"
     ]
    }
   ],
   "source": [
    "def load_pickle(fname):\n",
    "    \"load file pickled with dill.\"\n",
    "    with open(fname, 'rb') as f:\n",
    "        pp = dpickle.load(f)\n",
    "    return pp\n",
    "\n",
    "#load the text pre-processors\n",
    "title_pp = load_pickle('title_pp.dpkl')\n",
    "body_pp = load_pickle('body_pp.dpkl')\n",
    "\n",
    "#load the training data and labels\n",
    "train_body_vecs = np.load('train_body_vecs.npy')\n",
    "train_title_vecs = np.load('train_title_vecs.npy')\n",
    "train_labels = np.load('train_labels.npy')\n",
    "\n",
    "#load the test data and labels\n",
    "test_body_vecs = np.load('test_body_vecs.npy')\n",
    "test_title_vecs = np.load('test_title_vecs.npy')\n",
    "test_labels = np.load('test_labels.npy')"
   ]
  },
  {
   "cell_type": "markdown",
   "metadata": {},
   "source": [
    "### Build Model Architecture"
   ]
  },
  {
   "cell_type": "code",
   "execution_count": 4,
   "metadata": {},
   "outputs": [],
   "source": [
    "import tensorflow as tf\n",
    "from tensorflow.keras.utils import multi_gpu_model\n",
    "from tensorflow.keras.models import Model\n",
    "from tensorflow.keras.layers import Input, GRU, Dense, Embedding, Conv1D, Bidirectional, BatchNormalization, Dot, Flatten, Concatenate\n",
    "from tensorflow.keras.optimizers import Nadam"
   ]
  },
  {
   "cell_type": "code",
   "execution_count": 5,
   "metadata": {},
   "outputs": [
    {
     "data": {
      "text/plain": [
       "'1.12.0'"
      ]
     },
     "execution_count": 5,
     "metadata": {},
     "output_type": "execute_result"
    }
   ],
   "source": [
    "tf.__version__"
   ]
  },
  {
   "cell_type": "code",
   "execution_count": 6,
   "metadata": {},
   "outputs": [],
   "source": [
    "issue_body_doc_length = train_body_vecs.shape[1]\n",
    "issue_title_doc_length = train_title_vecs.shape[1]\n",
    "\n",
    "body_vocab_size = body_pp.n_tokens\n",
    "title_vocab_size = title_pp.n_tokens\n",
    "\n",
    "body_emb_size = 400\n",
    "title_emb_size = 300\n",
    "\n",
    "num_classes = len(set(train_labels))"
   ]
  },
  {
   "cell_type": "code",
   "execution_count": 7,
   "metadata": {},
   "outputs": [],
   "source": [
    "body_input = Input(shape=(issue_body_doc_length,), name='Body-Input')\n",
    "title_input = Input(shape=(issue_title_doc_length,), name='Title-Input')\n",
    "\n",
    "b_i = Embedding(body_vocab_size, body_emb_size, name='Body-Embedding', mask_zero=False)(body_input)\n",
    "b_t = Embedding(title_vocab_size, title_emb_size, name='Title-Embedding', mask_zero=False)(title_input)\n",
    "\n",
    "b_i = BatchNormalization()(b_i)\n",
    "b_i = Bidirectional(GRU(300, name='Body-Encoder'))(b_i)\n",
    "\n",
    "b_t = BatchNormalization()(b_t)\n",
    "b_t = GRU(300, name='Title-Encoder')(b_t)\n",
    "\n",
    "b = Concatenate(name='Concat')([b_i, b_t])\n",
    "#b = Dense(100, activation='relu', name='Dense1')(b_concat)\n",
    "b = BatchNormalization()(b)\n",
    "out = Dense(num_classes, activation='softmax')(b)\n",
    "\n",
    "model = Model([body_input, title_input], out)\n",
    "parallel_model = multi_gpu_model(model, gpus=4)\n",
    "parallel_model.compile(optimizer=Nadam(lr=0.001), loss='sparse_categorical_crossentropy', metrics=['accuracy'])"
   ]
  },
  {
   "cell_type": "code",
   "execution_count": 8,
   "metadata": {},
   "outputs": [
    {
     "name": "stdout",
     "output_type": "stream",
     "text": [
      "__________________________________________________________________________________________________\n",
      "Layer (type)                    Output Shape         Param #     Connected to                     \n",
      "==================================================================================================\n",
      "Body-Input (InputLayer)         (None, 140)          0                                            \n",
      "__________________________________________________________________________________________________\n",
      "Title-Input (InputLayer)        (None, 10)           0                                            \n",
      "__________________________________________________________________________________________________\n",
      "lambda (Lambda)                 (None, 140)          0           Body-Input[0][0]                 \n",
      "__________________________________________________________________________________________________\n",
      "lambda_1 (Lambda)               (None, 10)           0           Title-Input[0][0]                \n",
      "__________________________________________________________________________________________________\n",
      "lambda_2 (Lambda)               (None, 140)          0           Body-Input[0][0]                 \n",
      "__________________________________________________________________________________________________\n",
      "lambda_3 (Lambda)               (None, 10)           0           Title-Input[0][0]                \n",
      "__________________________________________________________________________________________________\n",
      "lambda_4 (Lambda)               (None, 140)          0           Body-Input[0][0]                 \n",
      "__________________________________________________________________________________________________\n",
      "lambda_5 (Lambda)               (None, 10)           0           Title-Input[0][0]                \n",
      "__________________________________________________________________________________________________\n",
      "lambda_6 (Lambda)               (None, 140)          0           Body-Input[0][0]                 \n",
      "__________________________________________________________________________________________________\n",
      "lambda_7 (Lambda)               (None, 10)           0           Title-Input[0][0]                \n",
      "__________________________________________________________________________________________________\n",
      "model (Model)                   (None, 4)            6513404     lambda[0][0]                     \n",
      "                                                                 lambda_1[0][0]                   \n",
      "                                                                 lambda_2[0][0]                   \n",
      "                                                                 lambda_3[0][0]                   \n",
      "                                                                 lambda_4[0][0]                   \n",
      "                                                                 lambda_5[0][0]                   \n",
      "                                                                 lambda_6[0][0]                   \n",
      "                                                                 lambda_7[0][0]                   \n",
      "__________________________________________________________________________________________________\n",
      "dense (Concatenate)             (None, 4)            0           model[1][0]                      \n",
      "                                                                 model[2][0]                      \n",
      "                                                                 model[3][0]                      \n",
      "                                                                 model[4][0]                      \n",
      "==================================================================================================\n",
      "Total params: 6,513,404\n",
      "Trainable params: 6,510,204\n",
      "Non-trainable params: 3,200\n",
      "__________________________________________________________________________________________________\n"
     ]
    }
   ],
   "source": [
    "parallel_model.summary()"
   ]
  },
  {
   "cell_type": "markdown",
   "metadata": {},
   "source": [
    "## Train Model"
   ]
  },
  {
   "cell_type": "code",
   "execution_count": 9,
   "metadata": {},
   "outputs": [
    {
     "name": "stderr",
     "output_type": "stream",
     "text": [
      "/usr/local/lib/python3.6/dist-packages/tensorflow/python/ops/gradients_impl.py:112: UserWarning: Converting sparse IndexedSlices to a dense Tensor of unknown shape. This may consume a large amount of memory.\n",
      "  \"Converting sparse IndexedSlices to a dense Tensor of unknown shape. \"\n"
     ]
    },
    {
     "name": "stdout",
     "output_type": "stream",
     "text": [
      "Train on 4486247 samples, validate on 498472 samples\n",
      "Epoch 1/10\n",
      "4486247/4486247 [==============================] - 1074s 239us/step - loss: 0.9147 - acc: 0.5811 - val_loss: 0.8611 - val_acc: 0.6023\n",
      "Epoch 2/10\n",
      "4486247/4486247 [==============================] - 1061s 236us/step - loss: 0.8317 - acc: 0.6207 - val_loss: 0.8456 - val_acc: 0.6100\n",
      "Epoch 3/10\n",
      "4486247/4486247 [==============================] - 1062s 237us/step - loss: 0.7987 - acc: 0.6398 - val_loss: 0.8380 - val_acc: 0.6172\n",
      "Epoch 4/10\n",
      "4486247/4486247 [==============================] - 1062s 237us/step - loss: 0.7657 - acc: 0.6587 - val_loss: 0.8441 - val_acc: 0.6164\n",
      "Epoch 5/10\n",
      "4486247/4486247 [==============================] - 1061s 237us/step - loss: 0.7277 - acc: 0.6800 - val_loss: 0.8636 - val_acc: 0.6109\n",
      "Epoch 6/10\n",
      "4486247/4486247 [==============================] - 1060s 236us/step - loss: 0.6841 - acc: 0.7037 - val_loss: 0.8896 - val_acc: 0.6062\n",
      "Epoch 7/10\n",
      "4486247/4486247 [==============================] - 1060s 236us/step - loss: 0.6354 - acc: 0.7291 - val_loss: 0.9307 - val_acc: 0.6010\n",
      "Epoch 8/10\n",
      "4486247/4486247 [==============================] - 1062s 237us/step - loss: 0.5847 - acc: 0.7545 - val_loss: 0.9823 - val_acc: 0.5933\n",
      "Epoch 9/10\n",
      "4486247/4486247 [==============================] - 1062s 237us/step - loss: 0.5344 - acc: 0.7788 - val_loss: 1.0410 - val_acc: 0.5903\n",
      "Epoch 10/10\n",
      "4486247/4486247 [==============================] - 1060s 236us/step - loss: 0.4864 - acc: 0.8014 - val_loss: 1.1159 - val_acc: 0.5840\n"
     ]
    }
   ],
   "source": [
    "from tensorflow.keras.callbacks import CSVLogger, ModelCheckpoint\n",
    "\n",
    "script_name_base = 'IssueLabeler'\n",
    "csv_logger = CSVLogger('{:}.log'.format(script_name_base))\n",
    "model_checkpoint = ModelCheckpoint('{:}.epoch{{epoch:02d}}-val{{val_loss:.5f}}.hdf5'.format(script_name_base),\n",
    "                                   save_best_only=True)\n",
    "\n",
    "batch_size = 6400\n",
    "epochs = 10\n",
    "history = parallel_model.fit(x=[train_body_vecs, train_title_vecs], \n",
    "                             y=np.expand_dims(train_labels, -1),\n",
    "                             batch_size=batch_size,\n",
    "                             epochs=epochs,\n",
    "                             validation_split=0.10, \n",
    "                             callbacks=[csv_logger, model_checkpoint])"
   ]
  },
  {
   "cell_type": "markdown",
   "metadata": {},
   "source": [
    "### Try another approach: Nueral BoW"
   ]
  },
  {
   "cell_type": "code",
   "execution_count": 9,
   "metadata": {},
   "outputs": [],
   "source": [
    "body_input2 = Input(shape=(issue_body_doc_length,), name='Body-Input')\n",
    "title_input2 = Input(shape=(issue_title_doc_length,), name='Title-Input')\n",
    "\n",
    "b_i2 = Embedding(body_vocab_size, body_emb_size//2, name='Body-Embedding', mask_zero=False)(body_input2)\n",
    "b_t2 = Embedding(title_vocab_size, title_emb_size//2, name='Title-Embedding', mask_zero=False)(title_input2)\n",
    "\n",
    "token_weights_i = Dense(units=1, activation='sigmoid', use_bias=False)(b_i2)\n",
    "token_weights_t = Dense(units=1, activation='sigmoid', use_bias=False)(b_t2)\n",
    "\n",
    "i_emb = Dot(axes=1, normalize=True, name='body_encoding')([b_i2, token_weights_i])\n",
    "i = Flatten()(i_emb)\n",
    "t_emb = Dot(axes=1, normalize=True, name='title_encoding')([b_t2, token_weights_t])\n",
    "t = Flatten()(t_emb)\n",
    "\n",
    "b = Concatenate(name='Concat')([i, t])\n",
    "b = Dense(100, activation='relu', name='Dense1')(b)\n",
    "b = BatchNormalization()(b)\n",
    "out = Dense(num_classes, activation='softmax')(b)\n",
    "\n",
    "model2 = Model([body_input2, title_input2], out)\n",
    "parallel_model_nbow = multi_gpu_model(model2, gpus=4)\n",
    "parallel_model_nbow.compile(optimizer=Nadam(lr=0.001), loss='sparse_categorical_crossentropy', metrics=['accuracy'])"
   ]
  },
  {
   "cell_type": "code",
   "execution_count": 10,
   "metadata": {},
   "outputs": [
    {
     "name": "stdout",
     "output_type": "stream",
     "text": [
      "__________________________________________________________________________________________________\n",
      "Layer (type)                    Output Shape         Param #     Connected to                     \n",
      "==================================================================================================\n",
      "Body-Input (InputLayer)         (None, 140)          0                                            \n",
      "__________________________________________________________________________________________________\n",
      "Title-Input (InputLayer)        (None, 10)           0                                            \n",
      "__________________________________________________________________________________________________\n",
      "Body-Embedding (Embedding)      (None, 140, 200)     1600200     Body-Input[0][0]                 \n",
      "__________________________________________________________________________________________________\n",
      "Title-Embedding (Embedding)     (None, 10, 150)      750150      Title-Input[0][0]                \n",
      "__________________________________________________________________________________________________\n",
      "dense_3 (Dense)                 (None, 140, 1)       200         Body-Embedding[0][0]             \n",
      "__________________________________________________________________________________________________\n",
      "dense_4 (Dense)                 (None, 10, 1)        150         Title-Embedding[0][0]            \n",
      "__________________________________________________________________________________________________\n",
      "body_encoding (Dot)             (None, 200, 1)       0           Body-Embedding[0][0]             \n",
      "                                                                 dense_3[0][0]                    \n",
      "__________________________________________________________________________________________________\n",
      "title_encoding (Dot)            (None, 150, 1)       0           Title-Embedding[0][0]            \n",
      "                                                                 dense_4[0][0]                    \n",
      "__________________________________________________________________________________________________\n",
      "flatten_2 (Flatten)             (None, 200)          0           body_encoding[0][0]              \n",
      "__________________________________________________________________________________________________\n",
      "flatten_3 (Flatten)             (None, 150)          0           title_encoding[0][0]             \n",
      "__________________________________________________________________________________________________\n",
      "Concat (Concatenate)            (None, 350)          0           flatten_2[0][0]                  \n",
      "                                                                 flatten_3[0][0]                  \n",
      "__________________________________________________________________________________________________\n",
      "Dense1 (Dense)                  (None, 100)          35100       Concat[0][0]                     \n",
      "__________________________________________________________________________________________________\n",
      "batch_normalization_1 (BatchNor (None, 100)          400         Dense1[0][0]                     \n",
      "__________________________________________________________________________________________________\n",
      "dense_5 (Dense)                 (None, 4)            404         batch_normalization_1[0][0]      \n",
      "==================================================================================================\n",
      "Total params: 2,386,604\n",
      "Trainable params: 2,386,404\n",
      "Non-trainable params: 200\n",
      "__________________________________________________________________________________________________\n"
     ]
    }
   ],
   "source": [
    "model2.summary()"
   ]
  },
  {
   "cell_type": "code",
   "execution_count": 11,
   "metadata": {},
   "outputs": [
    {
     "name": "stderr",
     "output_type": "stream",
     "text": [
      "/usr/local/lib/python3.6/dist-packages/tensorflow/python/ops/gradients_impl.py:112: UserWarning: Converting sparse IndexedSlices to a dense Tensor of unknown shape. This may consume a large amount of memory.\n",
      "  \"Converting sparse IndexedSlices to a dense Tensor of unknown shape. \"\n"
     ]
    },
    {
     "name": "stdout",
     "output_type": "stream",
     "text": [
      "Train on 4486247 samples, validate on 498472 samples\n",
      "Epoch 1/10\n",
      "4486247/4486247 [==============================] - 51s 11us/step - loss: 0.9772 - acc: 0.5655 - val_loss: 0.8917 - val_acc: 0.5899\n",
      "Epoch 2/10\n",
      "4486247/4486247 [==============================] - 48s 11us/step - loss: 0.8704 - acc: 0.6014 - val_loss: 0.8829 - val_acc: 0.5938\n",
      "Epoch 3/10\n",
      "4486247/4486247 [==============================] - 47s 11us/step - loss: 0.8521 - acc: 0.6115 - val_loss: 0.8766 - val_acc: 0.5951\n",
      "Epoch 4/10\n",
      "4486247/4486247 [==============================] - 48s 11us/step - loss: 0.8530 - acc: 0.6122 - val_loss: 0.8700 - val_acc: 0.6013\n",
      "Epoch 5/10\n",
      "4486247/4486247 [==============================] - 48s 11us/step - loss: 0.8273 - acc: 0.6262 - val_loss: 0.8684 - val_acc: 0.6026\n",
      "Epoch 6/10\n",
      "4486247/4486247 [==============================] - 47s 11us/step - loss: 0.8100 - acc: 0.6365 - val_loss: 0.8790 - val_acc: 0.5985\n",
      "Epoch 7/10\n",
      "4486247/4486247 [==============================] - 47s 10us/step - loss: 0.7941 - acc: 0.6456 - val_loss: 0.8783 - val_acc: 0.5998\n",
      "Epoch 8/10\n",
      "4486247/4486247 [==============================] - 47s 10us/step - loss: 0.7784 - acc: 0.6546 - val_loss: 0.8998 - val_acc: 0.5895\n",
      "Epoch 9/10\n",
      "4486247/4486247 [==============================] - 47s 11us/step - loss: 0.7637 - acc: 0.6631 - val_loss: 0.8966 - val_acc: 0.5948\n",
      "Epoch 10/10\n",
      "4486247/4486247 [==============================] - 47s 11us/step - loss: 0.7494 - acc: 0.6711 - val_loss: 0.9279 - val_acc: 0.5876\n"
     ]
    }
   ],
   "source": [
    "from tensorflow.keras.callbacks import CSVLogger, ModelCheckpoint\n",
    "\n",
    "script_name_base = 'IssueLabeler_nbow_'\n",
    "csv_logger = CSVLogger('{:}.log'.format(script_name_base))\n",
    "model_checkpoint = ModelCheckpoint('{:}.epoch{{epoch:02d}}-val{{val_loss:.5f}}.hdf5'.format(script_name_base),\n",
    "                                   save_best_only=True)\n",
    "\n",
    "batch_size = 20000\n",
    "epochs = 10\n",
    "history = parallel_model_nbow.fit(x=[train_body_vecs, train_title_vecs], \n",
    "                             y=np.expand_dims(train_labels, -1),\n",
    "                             batch_size=batch_size,\n",
    "                             epochs=epochs,\n",
    "                             validation_split=0.10, \n",
    "                             callbacks=[csv_logger, model_checkpoint])"
   ]
  },
  {
   "cell_type": "markdown",
   "metadata": {},
   "source": [
    "## Without Bi-Directional"
   ]
  },
  {
   "cell_type": "code",
   "execution_count": 16,
   "metadata": {},
   "outputs": [],
   "source": [
    "body_input = Input(shape=(issue_body_doc_length,), name='Body-Input')\n",
    "title_input = Input(shape=(issue_title_doc_length,), name='Title-Input')\n",
    "\n",
    "b_i = Embedding(body_vocab_size, body_emb_size//2, name='Body-Embedding', mask_zero=False)(body_input)\n",
    "b_t = Embedding(title_vocab_size, title_emb_size//2, name='Title-Embedding', mask_zero=False)(title_input)\n",
    "\n",
    "b_i = BatchNormalization()(b_i)\n",
    "b_i = GRU(300, name='Body-Encoder')(b_i)\n",
    "\n",
    "b_t = BatchNormalization()(b_t)\n",
    "b_t = GRU(300, name='Title-Encoder')(b_t)\n",
    "\n",
    "b = Concatenate(name='Concat')([b_i, b_t])\n",
    "#b = Dense(100, activation='relu', name='Dense1')(b_concat)\n",
    "b = BatchNormalization()(b)\n",
    "out = Dense(num_classes, activation='softmax')(b)\n",
    "\n",
    "model = Model([body_input, title_input], out)\n",
    "parallel_model = multi_gpu_model(model, gpus=4)\n",
    "parallel_model.compile(optimizer=Nadam(lr=0.001), loss='sparse_categorical_crossentropy', metrics=['accuracy'])"
   ]
  },
  {
   "cell_type": "code",
   "execution_count": null,
   "metadata": {},
   "outputs": [
    {
     "name": "stderr",
     "output_type": "stream",
     "text": [
      "/usr/local/lib/python3.6/dist-packages/tensorflow/python/ops/gradients_impl.py:112: UserWarning: Converting sparse IndexedSlices to a dense Tensor of unknown shape. This may consume a large amount of memory.\n",
      "  \"Converting sparse IndexedSlices to a dense Tensor of unknown shape. \"\n"
     ]
    },
    {
     "name": "stdout",
     "output_type": "stream",
     "text": [
      "Train on 4486247 samples, validate on 498472 samples\n",
      "Epoch 1/10\n",
      "4486247/4486247 [==============================] - 1262s 281us/step - loss: 0.8931 - acc: 0.5883 - val_loss: 0.8503 - val_acc: 0.6094\n",
      "Epoch 2/10\n",
      "4486247/4486247 [==============================] - 1250s 279us/step - loss: 0.8289 - acc: 0.6215 - val_loss: 0.8360 - val_acc: 0.6173\n",
      "Epoch 3/10\n",
      " 153600/4486247 [>.............................] - ETA: 19:11 - loss: 0.7874 - acc: 0.6451"
     ]
    }
   ],
   "source": [
    "from tensorflow.keras.callbacks import CSVLogger, ModelCheckpoint\n",
    "\n",
    "script_name_base = 'IssueLabeler_nobd'\n",
    "csv_logger = CSVLogger('{:}.log'.format(script_name_base))\n",
    "model_checkpoint = ModelCheckpoint('{:}.epoch{{epoch:02d}}-val{{val_loss:.5f}}.hdf5'.format(script_name_base),\n",
    "                                   save_best_only=True)\n",
    "\n",
    "batch_size = 2400\n",
    "epochs = 10\n",
    "history = parallel_model.fit(x=[train_body_vecs, train_title_vecs], \n",
    "                             y=np.expand_dims(train_labels, -1),\n",
    "                             batch_size=batch_size,\n",
    "                             epochs=epochs,\n",
    "                             validation_split=0.10, \n",
    "                             callbacks=[csv_logger, model_checkpoint])"
   ]
  },
  {
   "cell_type": "code",
   "execution_count": 14,
   "metadata": {},
   "outputs": [
    {
     "data": {
      "text/plain": [
       "400"
      ]
     },
     "execution_count": 14,
     "metadata": {},
     "output_type": "execute_result"
    }
   ],
   "source": [
    "body_emb_size"
   ]
  },
  {
   "cell_type": "code",
   "execution_count": 15,
   "metadata": {},
   "outputs": [
    {
     "data": {
      "text/plain": [
       "300"
      ]
     },
     "execution_count": 15,
     "metadata": {},
     "output_type": "execute_result"
    }
   ],
   "source": [
    "title_emb_size"
   ]
  },
  {
   "cell_type": "code",
   "execution_count": null,
   "metadata": {},
   "outputs": [],
   "source": []
  }
 ],
 "metadata": {
  "kernelspec": {
   "display_name": "Python 3",
   "language": "python",
   "name": "python3"
  },
  "language_info": {
   "codemirror_mode": {
    "name": "ipython",
    "version": 3
   },
   "file_extension": ".py",
   "mimetype": "text/x-python",
   "name": "python",
   "nbconvert_exporter": "python",
   "pygments_lexer": "ipython3",
   "version": "3.6.7"
  }
 },
 "nbformat": 4,
 "nbformat_minor": 2
}
