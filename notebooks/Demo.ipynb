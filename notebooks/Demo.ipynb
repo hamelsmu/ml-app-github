{
 "cells": [
  {
   "cell_type": "code",
   "execution_count": 1,
   "metadata": {},
   "outputs": [],
   "source": [
    "from mlapp import GitHubApp\n",
    "from IPython import display"
   ]
  },
  {
   "cell_type": "code",
   "execution_count": 2,
   "metadata": {},
   "outputs": [],
   "source": [
    "app_id = 27079\n",
    "key_file_path = '/Users/hamelsmu/.ssh/hamel-python-app.2019-03-15.private-key.pem'"
   ]
  },
  {
   "cell_type": "markdown",
   "metadata": {},
   "source": [
    "## Get the app installation\n",
    "\n",
    "The test installation automatically fetches the first installation the app is found on.  This app is only installed in one place, so this just fetches the installation made on the public `hamelsmu/example-github-app` repo. "
   ]
  },
  {
   "cell_type": "code",
   "execution_count": 3,
   "metadata": {},
   "outputs": [],
   "source": [
    "ghapp = GitHubApp(pem_path=key_file_path, app_id=app_id)\n",
    "install = ghapp.get_test_installation()"
   ]
  },
  {
   "cell_type": "markdown",
   "metadata": {},
   "source": [
    "## Interact With Issues"
   ]
  },
  {
   "cell_type": "markdown",
   "metadata": {},
   "source": [
    "#### Create a new issue"
   ]
  },
  {
   "cell_type": "code",
   "execution_count": 4,
   "metadata": {},
   "outputs": [],
   "source": [
    "issue = install.create_issue(owner='hamelsmu',\n",
    "                             repository='example-github-app',\n",
    "                             title='test issue', \n",
    "                             body='this is automatically created')"
   ]
  },
  {
   "cell_type": "markdown",
   "metadata": {},
   "source": [
    "#### Comment on an issue"
   ]
  },
  {
   "cell_type": "code",
   "execution_count": 5,
   "metadata": {},
   "outputs": [
    {
     "data": {
      "text/plain": [
       "<IssueComment [ml-auto-labeler[bot]]>"
      ]
     },
     "execution_count": 5,
     "metadata": {},
     "output_type": "execute_result"
    }
   ],
   "source": [
    "issue.create_comment('Wooo!  Its time to do some machine learning!')"
   ]
  },
  {
   "cell_type": "markdown",
   "metadata": {},
   "source": [
    "#### Add a label to an issue"
   ]
  },
  {
   "cell_type": "code",
   "execution_count": 6,
   "metadata": {},
   "outputs": [
    {
     "data": {
      "text/plain": [
       "[<ShortLabel [AI-is-taking-over]>]"
      ]
     },
     "execution_count": 6,
     "metadata": {},
     "output_type": "execute_result"
    }
   ],
   "source": [
    "issue.add_labels('AI-is-taking-over')"
   ]
  },
  {
   "cell_type": "markdown",
   "metadata": {},
   "source": [
    "#### See the issue here"
   ]
  },
  {
   "cell_type": "code",
   "execution_count": 7,
   "metadata": {},
   "outputs": [
    {
     "name": "stdout",
     "output_type": "stream",
     "text": [
      "https://github.com/hamelsmu/example-github-app/issues/9\n"
     ]
    },
    {
     "data": {
      "text/markdown": [
       "[https://github.com/hamelsmu/example-github-app/issues/9](https://github.com/hamelsmu/example-github-app/issues/9)"
      ],
      "text/plain": [
       "<IPython.core.display.Markdown object>"
      ]
     },
     "execution_count": 7,
     "metadata": {},
     "output_type": "execute_result"
    }
   ],
   "source": [
    "print(issue.html_url)\n",
    "\n",
    "display.Markdown(f'[{issue.html_url}]({issue.html_url})')"
   ]
  },
  {
   "cell_type": "markdown",
   "metadata": {},
   "source": [
    "## Extract Data For Training ML Models\n",
    "\n",
    "`Issue, Label` pairs"
   ]
  },
  {
   "cell_type": "markdown",
   "metadata": {},
   "source": [
    "Get a list of issues which you can use to train models"
   ]
  },
  {
   "cell_type": "code",
   "execution_count": 8,
   "metadata": {},
   "outputs": [
    {
     "name": "stderr",
     "output_type": "stream",
     "text": [
      "100%|██████████| 486/486 [03:25<00:00,  3.05it/s]\n"
     ]
    }
   ],
   "source": [
    "issues = GitHubApp.unpack_issues(client=install, \n",
    "                                 owner='kubeflow',\n",
    "                                 repo='kubeflow')"
   ]
  },
  {
   "cell_type": "code",
   "execution_count": 9,
   "metadata": {
    "scrolled": false
   },
   "outputs": [
    {
     "name": "stdout",
     "output_type": "stream",
     "text": [
      "there are 371 issues with labels\n"
     ]
    }
   ],
   "source": [
    "print(f'there are {len(issues)} issues with labels')"
   ]
  },
  {
   "cell_type": "code",
   "execution_count": 10,
   "metadata": {},
   "outputs": [
    {
     "name": "stdout",
     "output_type": "stream",
     "text": [
      "add spartakus as component\n",
      "\n",
      "==Issue Body==\n",
      "- Adds spartakus as default component.\r\n",
      "- Adds a new flag `disable_usage_report` to `kfctl init`.  If the flag is set, will not create spartakus as component.\r\n",
      "- Adds warning message in `coordinator.Generate` if spartakus is found in components list.\n",
      "\n",
      "<!-- Reviewable:start -->\n",
      "---\n",
      "This change is [<img src=\"https://reviewable.io/review_button.svg\" height=\"34\" align=\"absmiddle\" alt=\"Reviewable\"/>](https://reviewable.io/reviews/kubeflow/kubeflow/2784)\n",
      "<!-- Reviewable:end -->\n",
      "\n",
      "\n",
      "==Labels==\n",
      "['cla: yes', 'size/M']\n",
      "\n",
      "==Labels==\n",
      "https://github.com/kubeflow/kubeflow/pull/2784\n"
     ]
    }
   ],
   "source": [
    "print(issues[0].title)\n",
    "print('\\n==Issue Body==')\n",
    "print(issues[0].body)\n",
    "print('\\n==Labels==')\n",
    "print(issues[0].labels)\n",
    "print('\\n==Labels==')\n",
    "print(issues[0].url)"
   ]
  },
  {
   "cell_type": "markdown",
   "metadata": {},
   "source": [
    "# Build Model"
   ]
  },
  {
   "cell_type": "code",
   "execution_count": 13,
   "metadata": {},
   "outputs": [],
   "source": [
    "from sklearn.feature_extraction.text import TfidfVectorizer\n",
    "from sklearn.preprocessing import MultiLabelBinarizer\n",
    "from sklearn.model_selection import train_test_split\n",
    "from textacy.preprocess import preprocess_text\n",
    "from sklearn.ensemble import RandomForestClassifier\n",
    "\n",
    "def textacy_cleaner(text: str) -> str:\n",
    "    \"\"\"\n",
    "    Defines the default function for cleaning text.\n",
    "    This function operates over a list.\n",
    "    \"\"\"\n",
    "    return preprocess_text(text,\n",
    "                           fix_unicode=True,\n",
    "                           lowercase=True,\n",
    "                           transliterate=True,\n",
    "                           no_urls=True,\n",
    "                           no_emails=True,\n",
    "                           no_phone_numbers=True,\n",
    "                           no_numbers=True,\n",
    "                           no_currency_symbols=True,\n",
    "                           no_punct=True,\n",
    "                           no_contractions=False,\n",
    "                           no_accents=True)"
   ]
  },
  {
   "cell_type": "markdown",
   "metadata": {},
   "source": [
    "#### Get Raw data and labels"
   ]
  },
  {
   "cell_type": "code",
   "execution_count": 231,
   "metadata": {},
   "outputs": [],
   "source": [
    "raw_text = []\n",
    "\n",
    "for issue in issues:\n",
    "    raw_text.append(textacy_cleaner(issue.title) + ' ' + textacy_cleaner(issue.body))"
   ]
  },
  {
   "cell_type": "code",
   "execution_count": 232,
   "metadata": {},
   "outputs": [],
   "source": [
    "labels = [issue.labels for issue in issues]\n",
    "\n",
    "assert len(raw_text) == len(raw_text)"
   ]
  },
  {
   "cell_type": "markdown",
   "metadata": {},
   "source": [
    "#### See top labels in Kubeflow"
   ]
  },
  {
   "cell_type": "code",
   "execution_count": 233,
   "metadata": {},
   "outputs": [
    {
     "data": {
      "text/plain": [
       "['priority/p2',\n",
       " 'priority/p1',\n",
       " 'area/jupyter',\n",
       " 'community/question',\n",
       " 'platform/gcp',\n",
       " 'area/kfctl',\n",
       " 'area/testing',\n",
       " 'cla: yes',\n",
       " 'area/inference',\n",
       " 'area/bootstrap',\n",
       " 'area/0.4.0',\n",
       " 'help wanted',\n",
       " 'cuj/multi-user',\n",
       " 'area/build-release',\n",
       " 'area/0.5.0',\n",
       " 'cuj/build-train-deploy',\n",
       " 'area/front-end']"
      ]
     },
     "execution_count": 233,
     "metadata": {},
     "output_type": "execute_result"
    }
   ],
   "source": [
    "from collections import Counter\n",
    "import numpy as np\n",
    "c = Counter()\n",
    "\n",
    "for label in labels:\n",
    "    c.update(label)\n",
    "    \n",
    "# only model on labels that occur at least 10 times\n",
    "labels_to_keep = [x[0] for x in c.most_common() if x[1]>=10]\n",
    "\n",
    "labels_to_keep"
   ]
  },
  {
   "cell_type": "code",
   "execution_count": 234,
   "metadata": {},
   "outputs": [],
   "source": [
    "labels_to_keep = ['area/jupyter',\n",
    " 'community/question',\n",
    " 'platform/gcp',\n",
    " 'area/kfctl',\n",
    " 'area/testing',\n",
    " 'cla: yes',\n",
    " 'area/inference',\n",
    " 'area/bootstrap',\n",
    " 'help wanted',\n",
    " 'cuj/multi-user',\n",
    " 'area/build-release',\n",
    " 'cuj/build-train-deploy',\n",
    " 'area/front-end']"
   ]
  },
  {
   "cell_type": "code",
   "execution_count": 235,
   "metadata": {},
   "outputs": [],
   "source": [
    "labels = [[x for x in x if x in labels_to_keep] for x in labels]"
   ]
  },
  {
   "cell_type": "markdown",
   "metadata": {},
   "source": [
    "#### Filter out records that do not contain one of the top labels in the dataset"
   ]
  },
  {
   "cell_type": "code",
   "execution_count": 236,
   "metadata": {},
   "outputs": [],
   "source": [
    "mask = [bool(x) for x in labels]"
   ]
  },
  {
   "cell_type": "code",
   "execution_count": 237,
   "metadata": {},
   "outputs": [
    {
     "name": "stdout",
     "output_type": "stream",
     "text": [
      "There are 293 issues out of the original 371 that have one of the top 10 labels\n"
     ]
    }
   ],
   "source": [
    "print(f'There are {sum(mask)} issues out of the original {len(issues)} that have one of the top 10 labels')"
   ]
  },
  {
   "cell_type": "code",
   "execution_count": 238,
   "metadata": {},
   "outputs": [],
   "source": [
    "filtered_text = np.array(raw_text)[mask]\n",
    "filtered_labels = np.array(labels)[mask]"
   ]
  },
  {
   "cell_type": "code",
   "execution_count": 239,
   "metadata": {},
   "outputs": [],
   "source": [
    "assert len(filtered_text) == sum(mask) == len(filtered_labels)"
   ]
  },
  {
   "cell_type": "markdown",
   "metadata": {},
   "source": [
    "#### Train / Test Split"
   ]
  },
  {
   "cell_type": "code",
   "execution_count": 240,
   "metadata": {},
   "outputs": [],
   "source": [
    "text_train, text_val, labels_train, labels_val = train_test_split(filtered_text, filtered_labels, test_size=.15)"
   ]
  },
  {
   "cell_type": "code",
   "execution_count": 241,
   "metadata": {},
   "outputs": [],
   "source": [
    "assert len(text_train) == len(labels_train)\n",
    "assert len(text_val) == len(labels_val)"
   ]
  },
  {
   "cell_type": "markdown",
   "metadata": {},
   "source": [
    "#### Apply TFIDF Transformation to data"
   ]
  },
  {
   "cell_type": "code",
   "execution_count": 242,
   "metadata": {},
   "outputs": [],
   "source": [
    "tfidf = TfidfVectorizer(min_df=3)\n",
    "\n",
    "Xtrain = tfidf.fit_transform(text_train)\n",
    "Xtest = tfidf.transform(text_val)"
   ]
  },
  {
   "cell_type": "code",
   "execution_count": 243,
   "metadata": {},
   "outputs": [],
   "source": [
    "mlb = MultiLabelBinarizer()\n",
    "\n",
    "ytrain = mlb.fit_transform(labels_train)\n",
    "ytest = mlb.transform(labels_val)"
   ]
  },
  {
   "cell_type": "code",
   "execution_count": 244,
   "metadata": {},
   "outputs": [],
   "source": [
    "assert ytrain.shape[0] == Xtrain.shape[0]\n",
    "assert ytest.shape[0] == Xtest.shape[0]"
   ]
  },
  {
   "cell_type": "markdown",
   "metadata": {},
   "source": [
    "#### Train Model"
   ]
  },
  {
   "cell_type": "code",
   "execution_count": 308,
   "metadata": {},
   "outputs": [],
   "source": [
    "import tensorflow as tf\n",
    "from tensorflow.keras.layers import Input, Dense, BatchNormalization\n",
    "from tensorflow.keras import Model, optimizers\n",
    "from tensorflow.keras.callbacks import ModelCheckpoint\n",
    "import pandas as pd"
   ]
  },
  {
   "cell_type": "code",
   "execution_count": 246,
   "metadata": {},
   "outputs": [],
   "source": [
    "input_dim = Xtrain.shape[1]\n",
    "output_dim = ytrain.shape[1]"
   ]
  },
  {
   "cell_type": "code",
   "execution_count": 247,
   "metadata": {},
   "outputs": [
    {
     "data": {
      "text/plain": [
       "979"
      ]
     },
     "execution_count": 247,
     "metadata": {},
     "output_type": "execute_result"
    }
   ],
   "source": [
    "input_dim"
   ]
  },
  {
   "cell_type": "code",
   "execution_count": 248,
   "metadata": {},
   "outputs": [
    {
     "data": {
      "text/plain": [
       "13"
      ]
     },
     "execution_count": 248,
     "metadata": {},
     "output_type": "execute_result"
    }
   ],
   "source": [
    "output_dim"
   ]
  },
  {
   "cell_type": "code",
   "execution_count": 349,
   "metadata": {},
   "outputs": [],
   "source": [
    "inp = Input(shape=(input_dim,))\n",
    "h1 = Dense(100)(inp)\n",
    "out = Dense(output_dim, activation='sigmoid')(h1)\n",
    "mc = ModelCheckpoint(filepath='best_model.hdf5', save_best_only=True)\n",
    "\n",
    "adam = optimizers.Adam(lr = .01)\n",
    "\n",
    "model = Model(inp, out)\n",
    "model.compile(optimizer=adam,\n",
    "              loss='categorical_crossentropy',\n",
    "              metrics=['accuracy'])"
   ]
  },
  {
   "cell_type": "code",
   "execution_count": 350,
   "metadata": {},
   "outputs": [
    {
     "name": "stdout",
     "output_type": "stream",
     "text": [
      "Train on 249 samples, validate on 44 samples\n",
      "Epoch 1/100\n",
      "249/249 [==============================] - 1s 6ms/sample - loss: 3.2893 - acc: 0.3092 - val_loss: 3.0053 - val_acc: 0.3864\n",
      "Epoch 2/100\n",
      "249/249 [==============================] - 0s 185us/sample - loss: 2.7047 - acc: 0.6145 - val_loss: 2.7907 - val_acc: 0.3182\n",
      "Epoch 3/100\n",
      "249/249 [==============================] - 0s 209us/sample - loss: 1.8893 - acc: 0.7189 - val_loss: 2.3120 - val_acc: 0.3409\n",
      "Epoch 4/100\n",
      "249/249 [==============================] - 0s 205us/sample - loss: 1.0408 - acc: 0.8554 - val_loss: 1.9911 - val_acc: 0.4545\n",
      "Epoch 5/100\n",
      "249/249 [==============================] - 0s 146us/sample - loss: 0.6956 - acc: 0.8594 - val_loss: 2.1737 - val_acc: 0.4545\n",
      "Epoch 6/100\n",
      "249/249 [==============================] - 0s 143us/sample - loss: 0.6087 - acc: 0.8474 - val_loss: 2.0862 - val_acc: 0.4773\n",
      "Epoch 7/100\n",
      "249/249 [==============================] - 0s 143us/sample - loss: 0.5968 - acc: 0.8715 - val_loss: 2.3376 - val_acc: 0.4318\n",
      "Epoch 8/100\n",
      "249/249 [==============================] - 0s 146us/sample - loss: 0.6062 - acc: 0.8112 - val_loss: 2.0613 - val_acc: 0.5227\n",
      "Epoch 9/100\n",
      "249/249 [==============================] - 0s 143us/sample - loss: 0.6513 - acc: 0.8554 - val_loss: 2.3166 - val_acc: 0.4545\n",
      "Epoch 10/100\n",
      "249/249 [==============================] - 0s 147us/sample - loss: 0.6021 - acc: 0.8233 - val_loss: 2.1488 - val_acc: 0.4773\n",
      "Epoch 11/100\n",
      "249/249 [==============================] - 0s 159us/sample - loss: 0.5964 - acc: 0.8353 - val_loss: 2.2410 - val_acc: 0.4773\n",
      "Epoch 12/100\n",
      "249/249 [==============================] - 0s 166us/sample - loss: 0.5696 - acc: 0.8635 - val_loss: 2.3133 - val_acc: 0.4773\n",
      "Epoch 13/100\n",
      "249/249 [==============================] - 0s 142us/sample - loss: 0.5477 - acc: 0.8876 - val_loss: 2.2932 - val_acc: 0.4773\n",
      "Epoch 14/100\n",
      "249/249 [==============================] - 0s 153us/sample - loss: 0.5380 - acc: 0.8514 - val_loss: 2.4158 - val_acc: 0.4091\n",
      "Epoch 15/100\n",
      "249/249 [==============================] - 0s 141us/sample - loss: 0.5295 - acc: 0.8474 - val_loss: 2.4095 - val_acc: 0.4545\n",
      "Epoch 16/100\n",
      "249/249 [==============================] - 0s 140us/sample - loss: 0.5195 - acc: 0.8594 - val_loss: 2.3995 - val_acc: 0.4545\n",
      "Epoch 17/100\n",
      "249/249 [==============================] - 0s 149us/sample - loss: 0.5083 - acc: 0.8474 - val_loss: 2.4525 - val_acc: 0.4545\n",
      "Epoch 18/100\n",
      "249/249 [==============================] - 0s 140us/sample - loss: 0.5195 - acc: 0.8675 - val_loss: 2.3842 - val_acc: 0.4773\n",
      "Epoch 19/100\n",
      "249/249 [==============================] - 0s 154us/sample - loss: 0.5182 - acc: 0.8554 - val_loss: 2.3100 - val_acc: 0.5000\n",
      "Epoch 20/100\n",
      "249/249 [==============================] - 0s 149us/sample - loss: 0.5112 - acc: 0.9157 - val_loss: 2.5201 - val_acc: 0.4318\n",
      "Epoch 21/100\n",
      "249/249 [==============================] - 0s 147us/sample - loss: 0.5041 - acc: 0.8474 - val_loss: 2.4661 - val_acc: 0.4545\n",
      "Epoch 22/100\n",
      "249/249 [==============================] - 0s 143us/sample - loss: 0.5149 - acc: 0.8474 - val_loss: 2.3564 - val_acc: 0.4773\n",
      "Epoch 23/100\n",
      "249/249 [==============================] - 0s 132us/sample - loss: 0.5065 - acc: 0.8313 - val_loss: 2.3695 - val_acc: 0.4773\n",
      "Epoch 24/100\n",
      "249/249 [==============================] - 0s 141us/sample - loss: 0.5011 - acc: 0.8715 - val_loss: 2.5382 - val_acc: 0.4318\n",
      "Epoch 25/100\n",
      "249/249 [==============================] - 0s 149us/sample - loss: 0.5009 - acc: 0.8554 - val_loss: 2.5022 - val_acc: 0.4545\n",
      "Epoch 26/100\n",
      "249/249 [==============================] - 0s 138us/sample - loss: 0.4998 - acc: 0.7992 - val_loss: 2.4713 - val_acc: 0.4773\n",
      "Epoch 27/100\n",
      "249/249 [==============================] - 0s 161us/sample - loss: 0.4995 - acc: 0.8755 - val_loss: 2.4896 - val_acc: 0.4545\n",
      "Epoch 28/100\n",
      "249/249 [==============================] - 0s 176us/sample - loss: 0.4976 - acc: 0.8313 - val_loss: 2.4783 - val_acc: 0.4773\n",
      "Epoch 29/100\n",
      "249/249 [==============================] - 0s 159us/sample - loss: 0.4970 - acc: 0.8394 - val_loss: 2.4888 - val_acc: 0.5000\n",
      "Epoch 30/100\n",
      "249/249 [==============================] - 0s 154us/sample - loss: 0.4973 - acc: 0.8675 - val_loss: 2.4989 - val_acc: 0.5000\n",
      "Epoch 31/100\n",
      "249/249 [==============================] - 0s 156us/sample - loss: 0.4965 - acc: 0.8072 - val_loss: 2.4964 - val_acc: 0.5000\n",
      "Epoch 32/100\n",
      "249/249 [==============================] - 0s 156us/sample - loss: 0.4972 - acc: 0.8675 - val_loss: 2.5076 - val_acc: 0.5000\n",
      "Epoch 33/100\n",
      "249/249 [==============================] - 0s 156us/sample - loss: 0.4988 - acc: 0.7912 - val_loss: 2.5128 - val_acc: 0.5000\n",
      "Epoch 34/100\n",
      "249/249 [==============================] - 0s 158us/sample - loss: 0.5002 - acc: 0.9197 - val_loss: 2.5015 - val_acc: 0.4773\n",
      "Epoch 35/100\n",
      "249/249 [==============================] - 0s 159us/sample - loss: 0.4998 - acc: 0.7631 - val_loss: 2.5471 - val_acc: 0.5000\n",
      "Epoch 36/100\n",
      "249/249 [==============================] - 0s 137us/sample - loss: 0.5032 - acc: 0.8996 - val_loss: 2.5281 - val_acc: 0.5000\n",
      "Epoch 37/100\n",
      "249/249 [==============================] - 0s 117us/sample - loss: 0.5002 - acc: 0.8635 - val_loss: 2.4544 - val_acc: 0.5000\n",
      "Epoch 38/100\n",
      "249/249 [==============================] - 0s 133us/sample - loss: 0.4971 - acc: 0.7751 - val_loss: 2.4843 - val_acc: 0.5000\n",
      "Epoch 39/100\n",
      "249/249 [==============================] - 0s 146us/sample - loss: 0.4969 - acc: 0.8193 - val_loss: 2.5317 - val_acc: 0.5000\n",
      "Epoch 40/100\n",
      "249/249 [==============================] - 0s 133us/sample - loss: 0.4957 - acc: 0.8434 - val_loss: 2.5424 - val_acc: 0.5000\n",
      "Epoch 41/100\n",
      "249/249 [==============================] - 0s 143us/sample - loss: 0.4954 - acc: 0.8313 - val_loss: 2.5500 - val_acc: 0.5000\n",
      "Epoch 42/100\n",
      "249/249 [==============================] - 0s 168us/sample - loss: 0.4949 - acc: 0.8715 - val_loss: 2.5691 - val_acc: 0.5000\n",
      "Epoch 43/100\n",
      "249/249 [==============================] - 0s 169us/sample - loss: 0.4945 - acc: 0.8795 - val_loss: 2.5878 - val_acc: 0.5000\n",
      "Epoch 44/100\n",
      "249/249 [==============================] - 0s 168us/sample - loss: 0.4943 - acc: 0.8072 - val_loss: 2.5990 - val_acc: 0.5000\n",
      "Epoch 45/100\n",
      "249/249 [==============================] - 0s 150us/sample - loss: 0.4941 - acc: 0.8474 - val_loss: 2.6103 - val_acc: 0.5000\n",
      "Epoch 46/100\n",
      "249/249 [==============================] - 0s 130us/sample - loss: 0.4939 - acc: 0.8795 - val_loss: 2.6193 - val_acc: 0.5000\n",
      "Epoch 47/100\n",
      "249/249 [==============================] - 0s 129us/sample - loss: 0.4938 - acc: 0.8675 - val_loss: 2.6200 - val_acc: 0.5000\n",
      "Epoch 48/100\n",
      "249/249 [==============================] - 0s 171us/sample - loss: 0.4937 - acc: 0.8394 - val_loss: 2.6411 - val_acc: 0.5000\n",
      "Epoch 49/100\n",
      "249/249 [==============================] - 0s 142us/sample - loss: 0.4938 - acc: 0.8353 - val_loss: 2.6274 - val_acc: 0.5000\n",
      "Epoch 50/100\n",
      "249/249 [==============================] - 0s 145us/sample - loss: 0.4941 - acc: 0.9036 - val_loss: 2.6290 - val_acc: 0.5000\n",
      "Epoch 51/100\n",
      "249/249 [==============================] - 0s 152us/sample - loss: 0.4941 - acc: 0.7952 - val_loss: 2.6508 - val_acc: 0.5000\n",
      "Epoch 52/100\n",
      "249/249 [==============================] - 0s 126us/sample - loss: 0.4943 - acc: 0.8715 - val_loss: 2.6048 - val_acc: 0.5000\n",
      "Epoch 53/100\n",
      "249/249 [==============================] - 0s 127us/sample - loss: 0.4955 - acc: 0.7992 - val_loss: 2.6746 - val_acc: 0.5000\n",
      "Epoch 54/100\n",
      "249/249 [==============================] - 0s 133us/sample - loss: 0.4956 - acc: 0.8715 - val_loss: 2.6745 - val_acc: 0.5000\n",
      "Epoch 55/100\n",
      "249/249 [==============================] - 0s 145us/sample - loss: 0.4949 - acc: 0.7912 - val_loss: 2.6441 - val_acc: 0.5000\n",
      "Epoch 56/100\n",
      "249/249 [==============================] - 0s 136us/sample - loss: 0.4941 - acc: 0.8835 - val_loss: 2.6687 - val_acc: 0.5000\n",
      "Epoch 57/100\n",
      "249/249 [==============================] - 0s 130us/sample - loss: 0.4940 - acc: 0.8193 - val_loss: 2.6850 - val_acc: 0.5000\n",
      "Epoch 58/100\n",
      "249/249 [==============================] - 0s 129us/sample - loss: 0.4938 - acc: 0.7871 - val_loss: 2.6797 - val_acc: 0.5000\n",
      "Epoch 59/100\n",
      "249/249 [==============================] - 0s 152us/sample - loss: 0.4937 - acc: 0.8795 - val_loss: 2.6891 - val_acc: 0.5000\n",
      "Epoch 60/100\n"
     ]
    },
    {
     "name": "stdout",
     "output_type": "stream",
     "text": [
      "249/249 [==============================] - 0s 158us/sample - loss: 0.4935 - acc: 0.8675 - val_loss: 2.6948 - val_acc: 0.5000\n",
      "Epoch 61/100\n",
      "249/249 [==============================] - 0s 159us/sample - loss: 0.4933 - acc: 0.7992 - val_loss: 2.7063 - val_acc: 0.5000\n",
      "Epoch 62/100\n",
      "249/249 [==============================] - 0s 150us/sample - loss: 0.4933 - acc: 0.8514 - val_loss: 2.7105 - val_acc: 0.5000\n",
      "Epoch 63/100\n",
      "249/249 [==============================] - 0s 149us/sample - loss: 0.4932 - acc: 0.8193 - val_loss: 2.7279 - val_acc: 0.5000\n",
      "Epoch 64/100\n",
      "249/249 [==============================] - 0s 165us/sample - loss: 0.4932 - acc: 0.8916 - val_loss: 2.7324 - val_acc: 0.5000\n",
      "Epoch 65/100\n",
      "249/249 [==============================] - 0s 184us/sample - loss: 0.4931 - acc: 0.8153 - val_loss: 2.7305 - val_acc: 0.5000\n",
      "Epoch 66/100\n",
      "249/249 [==============================] - 0s 170us/sample - loss: 0.4930 - acc: 0.8594 - val_loss: 2.7435 - val_acc: 0.5000\n",
      "Epoch 67/100\n",
      "249/249 [==============================] - 0s 168us/sample - loss: 0.4930 - acc: 0.8755 - val_loss: 2.7500 - val_acc: 0.5000\n",
      "Epoch 68/100\n",
      "249/249 [==============================] - 0s 188us/sample - loss: 0.4930 - acc: 0.8233 - val_loss: 2.7620 - val_acc: 0.5000\n",
      "Epoch 69/100\n",
      "249/249 [==============================] - 0s 156us/sample - loss: 0.4930 - acc: 0.8635 - val_loss: 2.7515 - val_acc: 0.5000\n",
      "Epoch 70/100\n",
      "249/249 [==============================] - 0s 135us/sample - loss: 0.4930 - acc: 0.8353 - val_loss: 2.7658 - val_acc: 0.5000\n",
      "Epoch 71/100\n",
      "249/249 [==============================] - 0s 132us/sample - loss: 0.4930 - acc: 0.8916 - val_loss: 2.7753 - val_acc: 0.5000\n",
      "Epoch 72/100\n",
      "249/249 [==============================] - 0s 129us/sample - loss: 0.4931 - acc: 0.7912 - val_loss: 2.7818 - val_acc: 0.5000\n",
      "Epoch 73/100\n",
      "249/249 [==============================] - 0s 133us/sample - loss: 0.4933 - acc: 0.9398 - val_loss: 2.7502 - val_acc: 0.5000\n",
      "Epoch 74/100\n",
      "249/249 [==============================] - 0s 155us/sample - loss: 0.4939 - acc: 0.7590 - val_loss: 2.8296 - val_acc: 0.5000\n",
      "Epoch 75/100\n",
      "249/249 [==============================] - 0s 160us/sample - loss: 0.4944 - acc: 0.9317 - val_loss: 2.7729 - val_acc: 0.5000\n",
      "Epoch 76/100\n",
      "249/249 [==============================] - 0s 146us/sample - loss: 0.4944 - acc: 0.7751 - val_loss: 2.7996 - val_acc: 0.5000\n",
      "Epoch 77/100\n",
      "249/249 [==============================] - 0s 141us/sample - loss: 0.4935 - acc: 0.8795 - val_loss: 2.8784 - val_acc: 0.5000\n",
      "Epoch 78/100\n",
      "249/249 [==============================] - 0s 142us/sample - loss: 0.4936 - acc: 0.8514 - val_loss: 2.8347 - val_acc: 0.5000\n",
      "Epoch 79/100\n",
      "249/249 [==============================] - 0s 143us/sample - loss: 0.4931 - acc: 0.8313 - val_loss: 2.7991 - val_acc: 0.5000\n",
      "Epoch 80/100\n",
      "249/249 [==============================] - 0s 137us/sample - loss: 0.4931 - acc: 0.8635 - val_loss: 2.8087 - val_acc: 0.5000\n",
      "Epoch 81/100\n",
      "249/249 [==============================] - 0s 159us/sample - loss: 0.4930 - acc: 0.8072 - val_loss: 2.8491 - val_acc: 0.5000\n",
      "Epoch 82/100\n",
      "249/249 [==============================] - 0s 147us/sample - loss: 0.4934 - acc: 0.8072 - val_loss: 2.8272 - val_acc: 0.5000\n",
      "Epoch 83/100\n",
      "249/249 [==============================] - 0s 153us/sample - loss: 0.4930 - acc: 0.9116 - val_loss: 2.8103 - val_acc: 0.5000\n",
      "Epoch 84/100\n",
      "249/249 [==============================] - 0s 138us/sample - loss: 0.4930 - acc: 0.8474 - val_loss: 2.8186 - val_acc: 0.5000\n",
      "Epoch 85/100\n",
      "249/249 [==============================] - 0s 156us/sample - loss: 0.4929 - acc: 0.7952 - val_loss: 2.8315 - val_acc: 0.5000\n",
      "Epoch 86/100\n",
      "249/249 [==============================] - 0s 159us/sample - loss: 0.4928 - acc: 0.8715 - val_loss: 2.8259 - val_acc: 0.5000\n",
      "Epoch 87/100\n",
      "249/249 [==============================] - 0s 138us/sample - loss: 0.4928 - acc: 0.8715 - val_loss: 2.8276 - val_acc: 0.5000\n",
      "Epoch 88/100\n",
      "249/249 [==============================] - 0s 131us/sample - loss: 0.4928 - acc: 0.8233 - val_loss: 2.8336 - val_acc: 0.5000\n",
      "Epoch 89/100\n",
      "249/249 [==============================] - 0s 138us/sample - loss: 0.4927 - acc: 0.8635 - val_loss: 2.8358 - val_acc: 0.5000\n",
      "Epoch 90/100\n",
      "249/249 [==============================] - 0s 134us/sample - loss: 0.4927 - acc: 0.8594 - val_loss: 2.8436 - val_acc: 0.5000\n",
      "Epoch 91/100\n",
      "249/249 [==============================] - 0s 133us/sample - loss: 0.4927 - acc: 0.8233 - val_loss: 2.8427 - val_acc: 0.5000\n",
      "Epoch 92/100\n",
      "249/249 [==============================] - 0s 137us/sample - loss: 0.4927 - acc: 0.8715 - val_loss: 2.8466 - val_acc: 0.5000\n",
      "Epoch 93/100\n",
      "249/249 [==============================] - 0s 140us/sample - loss: 0.4926 - acc: 0.8474 - val_loss: 2.8549 - val_acc: 0.5000\n",
      "Epoch 94/100\n",
      "249/249 [==============================] - 0s 140us/sample - loss: 0.4927 - acc: 0.8474 - val_loss: 2.8524 - val_acc: 0.5000\n",
      "Epoch 95/100\n",
      "249/249 [==============================] - 0s 135us/sample - loss: 0.4930 - acc: 0.8795 - val_loss: 2.8535 - val_acc: 0.5000\n",
      "Epoch 96/100\n",
      "249/249 [==============================] - 0s 130us/sample - loss: 0.4927 - acc: 0.8313 - val_loss: 2.8527 - val_acc: 0.5000\n",
      "Epoch 97/100\n",
      "249/249 [==============================] - 0s 134us/sample - loss: 0.4927 - acc: 0.8755 - val_loss: 2.8519 - val_acc: 0.5000\n",
      "Epoch 98/100\n",
      "249/249 [==============================] - 0s 137us/sample - loss: 0.4926 - acc: 0.8313 - val_loss: 2.8544 - val_acc: 0.5000\n",
      "Epoch 99/100\n",
      "249/249 [==============================] - 0s 130us/sample - loss: 0.4926 - acc: 0.8112 - val_loss: 2.8572 - val_acc: 0.5000\n",
      "Epoch 100/100\n",
      "249/249 [==============================] - 0s 129us/sample - loss: 0.4926 - acc: 0.9157 - val_loss: 2.8712 - val_acc: 0.5000\n"
     ]
    },
    {
     "data": {
      "text/plain": [
       "<tensorflow.python.keras.callbacks.History at 0x14c9a5e48>"
      ]
     },
     "execution_count": 350,
     "metadata": {},
     "output_type": "execute_result"
    }
   ],
   "source": [
    "model.fit(Xtrain, ytrain, validation_data=[Xtest, ytest], epochs=100, callbacks=[mc])"
   ]
  },
  {
   "cell_type": "code",
   "execution_count": 351,
   "metadata": {},
   "outputs": [],
   "source": [
    "model.load_weights('best_model.hdf5')"
   ]
  },
  {
   "cell_type": "code",
   "execution_count": 352,
   "metadata": {},
   "outputs": [],
   "source": [
    "test_predictions = model.predict(Xtest)"
   ]
  },
  {
   "cell_type": "markdown",
   "metadata": {},
   "source": [
    "# Show Test Results"
   ]
  },
  {
   "cell_type": "code",
   "execution_count": 360,
   "metadata": {},
   "outputs": [],
   "source": [
    "threshold = .2\n",
    "ground_truths = []\n",
    "predictions = []\n",
    "\n",
    "for i, data in enumerate(zip(mlb.inverse_transform(test_predictions >= threshold), mlb.inverse_transform(ytest))):\n",
    "    pred, ground_truth = data\n",
    "    ground_truths.append([ground_truth])\n",
    "    predictions.append([pred])"
   ]
  },
  {
   "cell_type": "code",
   "execution_count": 361,
   "metadata": {},
   "outputs": [
    {
     "data": {
      "text/html": [
       "<div>\n",
       "<style scoped>\n",
       "    .dataframe tbody tr th:only-of-type {\n",
       "        vertical-align: middle;\n",
       "    }\n",
       "\n",
       "    .dataframe tbody tr th {\n",
       "        vertical-align: top;\n",
       "    }\n",
       "\n",
       "    .dataframe thead th {\n",
       "        text-align: right;\n",
       "    }\n",
       "</style>\n",
       "<table border=\"1\" class=\"dataframe\">\n",
       "  <thead>\n",
       "    <tr style=\"text-align: right;\">\n",
       "      <th></th>\n",
       "      <th>ground_truth</th>\n",
       "      <th>prediction</th>\n",
       "    </tr>\n",
       "  </thead>\n",
       "  <tbody>\n",
       "    <tr>\n",
       "      <th>0</th>\n",
       "      <td>[(community/question,)]</td>\n",
       "      <td>[()]</td>\n",
       "    </tr>\n",
       "    <tr>\n",
       "      <th>1</th>\n",
       "      <td>[(cla: yes,)]</td>\n",
       "      <td>[(cla: yes,)]</td>\n",
       "    </tr>\n",
       "    <tr>\n",
       "      <th>2</th>\n",
       "      <td>[(area/build-release,)]</td>\n",
       "      <td>[()]</td>\n",
       "    </tr>\n",
       "    <tr>\n",
       "      <th>3</th>\n",
       "      <td>[(area/kfctl,)]</td>\n",
       "      <td>[()]</td>\n",
       "    </tr>\n",
       "    <tr>\n",
       "      <th>4</th>\n",
       "      <td>[(community/question,)]</td>\n",
       "      <td>[(community/question,)]</td>\n",
       "    </tr>\n",
       "    <tr>\n",
       "      <th>5</th>\n",
       "      <td>[(area/bootstrap, area/testing, platform/gcp)]</td>\n",
       "      <td>[()]</td>\n",
       "    </tr>\n",
       "    <tr>\n",
       "      <th>6</th>\n",
       "      <td>[(area/bootstrap,)]</td>\n",
       "      <td>[()]</td>\n",
       "    </tr>\n",
       "    <tr>\n",
       "      <th>7</th>\n",
       "      <td>[(cuj/multi-user,)]</td>\n",
       "      <td>[()]</td>\n",
       "    </tr>\n",
       "    <tr>\n",
       "      <th>8</th>\n",
       "      <td>[(cla: yes,)]</td>\n",
       "      <td>[()]</td>\n",
       "    </tr>\n",
       "    <tr>\n",
       "      <th>9</th>\n",
       "      <td>[(cla: yes,)]</td>\n",
       "      <td>[(cla: yes,)]</td>\n",
       "    </tr>\n",
       "    <tr>\n",
       "      <th>10</th>\n",
       "      <td>[(area/inference, community/question)]</td>\n",
       "      <td>[()]</td>\n",
       "    </tr>\n",
       "    <tr>\n",
       "      <th>11</th>\n",
       "      <td>[(cuj/multi-user,)]</td>\n",
       "      <td>[()]</td>\n",
       "    </tr>\n",
       "    <tr>\n",
       "      <th>12</th>\n",
       "      <td>[(area/jupyter, area/testing)]</td>\n",
       "      <td>[()]</td>\n",
       "    </tr>\n",
       "    <tr>\n",
       "      <th>13</th>\n",
       "      <td>[(area/jupyter,)]</td>\n",
       "      <td>[()]</td>\n",
       "    </tr>\n",
       "    <tr>\n",
       "      <th>14</th>\n",
       "      <td>[(area/bootstrap, platform/gcp)]</td>\n",
       "      <td>[()]</td>\n",
       "    </tr>\n",
       "    <tr>\n",
       "      <th>15</th>\n",
       "      <td>[(area/bootstrap,)]</td>\n",
       "      <td>[()]</td>\n",
       "    </tr>\n",
       "    <tr>\n",
       "      <th>16</th>\n",
       "      <td>[(area/bootstrap, platform/gcp)]</td>\n",
       "      <td>[()]</td>\n",
       "    </tr>\n",
       "    <tr>\n",
       "      <th>17</th>\n",
       "      <td>[(area/kfctl,)]</td>\n",
       "      <td>[()]</td>\n",
       "    </tr>\n",
       "    <tr>\n",
       "      <th>18</th>\n",
       "      <td>[(community/question,)]</td>\n",
       "      <td>[()]</td>\n",
       "    </tr>\n",
       "    <tr>\n",
       "      <th>19</th>\n",
       "      <td>[(community/question,)]</td>\n",
       "      <td>[()]</td>\n",
       "    </tr>\n",
       "    <tr>\n",
       "      <th>20</th>\n",
       "      <td>[(area/testing,)]</td>\n",
       "      <td>[()]</td>\n",
       "    </tr>\n",
       "    <tr>\n",
       "      <th>21</th>\n",
       "      <td>[(area/jupyter, cuj/build-train-deploy)]</td>\n",
       "      <td>[()]</td>\n",
       "    </tr>\n",
       "    <tr>\n",
       "      <th>22</th>\n",
       "      <td>[(area/testing, platform/gcp)]</td>\n",
       "      <td>[()]</td>\n",
       "    </tr>\n",
       "    <tr>\n",
       "      <th>23</th>\n",
       "      <td>[(area/build-release,)]</td>\n",
       "      <td>[()]</td>\n",
       "    </tr>\n",
       "    <tr>\n",
       "      <th>24</th>\n",
       "      <td>[(area/inference, community/question)]</td>\n",
       "      <td>[(area/inference,)]</td>\n",
       "    </tr>\n",
       "    <tr>\n",
       "      <th>25</th>\n",
       "      <td>[(area/inference,)]</td>\n",
       "      <td>[()]</td>\n",
       "    </tr>\n",
       "    <tr>\n",
       "      <th>26</th>\n",
       "      <td>[(area/build-release,)]</td>\n",
       "      <td>[()]</td>\n",
       "    </tr>\n",
       "    <tr>\n",
       "      <th>27</th>\n",
       "      <td>[(cla: yes,)]</td>\n",
       "      <td>[()]</td>\n",
       "    </tr>\n",
       "    <tr>\n",
       "      <th>28</th>\n",
       "      <td>[(community/question,)]</td>\n",
       "      <td>[()]</td>\n",
       "    </tr>\n",
       "    <tr>\n",
       "      <th>29</th>\n",
       "      <td>[(area/bootstrap, platform/gcp)]</td>\n",
       "      <td>[()]</td>\n",
       "    </tr>\n",
       "    <tr>\n",
       "      <th>30</th>\n",
       "      <td>[(area/bootstrap, area/build-release)]</td>\n",
       "      <td>[()]</td>\n",
       "    </tr>\n",
       "    <tr>\n",
       "      <th>31</th>\n",
       "      <td>[(community/question,)]</td>\n",
       "      <td>[()]</td>\n",
       "    </tr>\n",
       "    <tr>\n",
       "      <th>32</th>\n",
       "      <td>[(area/kfctl,)]</td>\n",
       "      <td>[()]</td>\n",
       "    </tr>\n",
       "    <tr>\n",
       "      <th>33</th>\n",
       "      <td>[(area/inference,)]</td>\n",
       "      <td>[()]</td>\n",
       "    </tr>\n",
       "    <tr>\n",
       "      <th>34</th>\n",
       "      <td>[(community/question,)]</td>\n",
       "      <td>[()]</td>\n",
       "    </tr>\n",
       "    <tr>\n",
       "      <th>35</th>\n",
       "      <td>[(community/question,)]</td>\n",
       "      <td>[()]</td>\n",
       "    </tr>\n",
       "    <tr>\n",
       "      <th>36</th>\n",
       "      <td>[(community/question,)]</td>\n",
       "      <td>[()]</td>\n",
       "    </tr>\n",
       "    <tr>\n",
       "      <th>37</th>\n",
       "      <td>[(community/question, platform/gcp)]</td>\n",
       "      <td>[()]</td>\n",
       "    </tr>\n",
       "    <tr>\n",
       "      <th>38</th>\n",
       "      <td>[(area/testing,)]</td>\n",
       "      <td>[()]</td>\n",
       "    </tr>\n",
       "    <tr>\n",
       "      <th>39</th>\n",
       "      <td>[(area/testing,)]</td>\n",
       "      <td>[()]</td>\n",
       "    </tr>\n",
       "    <tr>\n",
       "      <th>40</th>\n",
       "      <td>[(area/build-release,)]</td>\n",
       "      <td>[()]</td>\n",
       "    </tr>\n",
       "    <tr>\n",
       "      <th>41</th>\n",
       "      <td>[(platform/gcp,)]</td>\n",
       "      <td>[()]</td>\n",
       "    </tr>\n",
       "    <tr>\n",
       "      <th>42</th>\n",
       "      <td>[(area/build-release,)]</td>\n",
       "      <td>[()]</td>\n",
       "    </tr>\n",
       "    <tr>\n",
       "      <th>43</th>\n",
       "      <td>[(area/jupyter, help wanted)]</td>\n",
       "      <td>[()]</td>\n",
       "    </tr>\n",
       "  </tbody>\n",
       "</table>\n",
       "</div>"
      ],
      "text/plain": [
       "                                      ground_truth               prediction\n",
       "0                          [(community/question,)]                     [()]\n",
       "1                                    [(cla: yes,)]            [(cla: yes,)]\n",
       "2                          [(area/build-release,)]                     [()]\n",
       "3                                  [(area/kfctl,)]                     [()]\n",
       "4                          [(community/question,)]  [(community/question,)]\n",
       "5   [(area/bootstrap, area/testing, platform/gcp)]                     [()]\n",
       "6                              [(area/bootstrap,)]                     [()]\n",
       "7                              [(cuj/multi-user,)]                     [()]\n",
       "8                                    [(cla: yes,)]                     [()]\n",
       "9                                    [(cla: yes,)]            [(cla: yes,)]\n",
       "10          [(area/inference, community/question)]                     [()]\n",
       "11                             [(cuj/multi-user,)]                     [()]\n",
       "12                  [(area/jupyter, area/testing)]                     [()]\n",
       "13                               [(area/jupyter,)]                     [()]\n",
       "14                [(area/bootstrap, platform/gcp)]                     [()]\n",
       "15                             [(area/bootstrap,)]                     [()]\n",
       "16                [(area/bootstrap, platform/gcp)]                     [()]\n",
       "17                                 [(area/kfctl,)]                     [()]\n",
       "18                         [(community/question,)]                     [()]\n",
       "19                         [(community/question,)]                     [()]\n",
       "20                               [(area/testing,)]                     [()]\n",
       "21        [(area/jupyter, cuj/build-train-deploy)]                     [()]\n",
       "22                  [(area/testing, platform/gcp)]                     [()]\n",
       "23                         [(area/build-release,)]                     [()]\n",
       "24          [(area/inference, community/question)]      [(area/inference,)]\n",
       "25                             [(area/inference,)]                     [()]\n",
       "26                         [(area/build-release,)]                     [()]\n",
       "27                                   [(cla: yes,)]                     [()]\n",
       "28                         [(community/question,)]                     [()]\n",
       "29                [(area/bootstrap, platform/gcp)]                     [()]\n",
       "30          [(area/bootstrap, area/build-release)]                     [()]\n",
       "31                         [(community/question,)]                     [()]\n",
       "32                                 [(area/kfctl,)]                     [()]\n",
       "33                             [(area/inference,)]                     [()]\n",
       "34                         [(community/question,)]                     [()]\n",
       "35                         [(community/question,)]                     [()]\n",
       "36                         [(community/question,)]                     [()]\n",
       "37            [(community/question, platform/gcp)]                     [()]\n",
       "38                               [(area/testing,)]                     [()]\n",
       "39                               [(area/testing,)]                     [()]\n",
       "40                         [(area/build-release,)]                     [()]\n",
       "41                               [(platform/gcp,)]                     [()]\n",
       "42                         [(area/build-release,)]                     [()]\n",
       "43                   [(area/jupyter, help wanted)]                     [()]"
      ]
     },
     "execution_count": 361,
     "metadata": {},
     "output_type": "execute_result"
    }
   ],
   "source": [
    "pd.DataFrame({'ground_truth':ground_truths, 'prediction': predictions})"
   ]
  },
  {
   "cell_type": "markdown",
   "metadata": {},
   "source": [
    "## Conclusion:  \n",
    "\n",
    "This simple model sucks, need to find something more compelling in this situation."
   ]
  },
  {
   "cell_type": "code",
   "execution_count": null,
   "metadata": {},
   "outputs": [],
   "source": []
  }
 ],
 "metadata": {
  "kernelspec": {
   "display_name": "MLapp",
   "language": "python",
   "name": "mlapp"
  },
  "language_info": {
   "codemirror_mode": {
    "name": "ipython",
    "version": 3
   },
   "file_extension": ".py",
   "mimetype": "text/x-python",
   "name": "python",
   "nbconvert_exporter": "python",
   "pygments_lexer": "ipython3",
   "version": "3.7.2"
  }
 },
 "nbformat": 4,
 "nbformat_minor": 2
}
