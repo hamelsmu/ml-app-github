{
 "cells": [
  {
   "cell_type": "code",
   "execution_count": 12,
   "metadata": {},
   "outputs": [],
   "source": [
    "from mlapp import GitHubApp\n",
    "from IPython import display"
   ]
  },
  {
   "cell_type": "code",
   "execution_count": 2,
   "metadata": {},
   "outputs": [],
   "source": [
    "app_id = 27079\n",
    "key_file_path = '/Users/hamelsmu/.ssh/hamel-python-app.2019-03-15.private-key.pem'"
   ]
  },
  {
   "cell_type": "markdown",
   "metadata": {},
   "source": [
    "## Get the app installation\n",
    "\n",
    "The test installation automatically fetches the first installation the app is found on.  This app is only installed in one place, so this just fetches the installation made on the public `hamelsmu/example-github-app` repo. "
   ]
  },
  {
   "cell_type": "code",
   "execution_count": 3,
   "metadata": {},
   "outputs": [],
   "source": [
    "ghapp = GitHubApp(pem_path=key_file_path, app_id=app_id)\n",
    "install = ghapp.get_test_installation()"
   ]
  },
  {
   "cell_type": "markdown",
   "metadata": {},
   "source": [
    "## Interact With Issues"
   ]
  },
  {
   "cell_type": "markdown",
   "metadata": {},
   "source": [
    "#### Create a new issue"
   ]
  },
  {
   "cell_type": "code",
   "execution_count": 4,
   "metadata": {},
   "outputs": [],
   "source": [
    "issue = install.create_issue(owner='hamelsmu',\n",
    "                             repository='example-github-app',\n",
    "                             title='test issue', \n",
    "                             body='this is automatically created')"
   ]
  },
  {
   "cell_type": "markdown",
   "metadata": {},
   "source": [
    "#### Comment on an issue"
   ]
  },
  {
   "cell_type": "code",
   "execution_count": 29,
   "metadata": {},
   "outputs": [
    {
     "data": {
      "text/plain": [
       "<IssueComment [ml-auto-labeler[bot]]>"
      ]
     },
     "execution_count": 29,
     "metadata": {},
     "output_type": "execute_result"
    }
   ],
   "source": [
    "issue.create_comment('Wooo!  Its time to do some machine learning!')"
   ]
  },
  {
   "cell_type": "markdown",
   "metadata": {},
   "source": [
    "#### Add a label to an issue"
   ]
  },
  {
   "cell_type": "code",
   "execution_count": 30,
   "metadata": {},
   "outputs": [
    {
     "data": {
      "text/plain": [
       "[<ShortLabel [AI-is-taking-over]>]"
      ]
     },
     "execution_count": 30,
     "metadata": {},
     "output_type": "execute_result"
    }
   ],
   "source": [
    "issue.add_labels('AI-is-taking-over')"
   ]
  },
  {
   "cell_type": "markdown",
   "metadata": {},
   "source": [
    "#### See the issue here"
   ]
  },
  {
   "cell_type": "code",
   "execution_count": 42,
   "metadata": {},
   "outputs": [
    {
     "name": "stdout",
     "output_type": "stream",
     "text": [
      "https://github.com/hamelsmu/example-github-app/issues/5\n"
     ]
    },
    {
     "data": {
      "text/markdown": [
       "[https://github.com/hamelsmu/example-github-app/issues/5](https://github.com/hamelsmu/example-github-app/issues/5)"
      ],
      "text/plain": [
       "<IPython.core.display.Markdown object>"
      ]
     },
     "execution_count": 42,
     "metadata": {},
     "output_type": "execute_result"
    }
   ],
   "source": [
    "print(issue.html_url)\n",
    "\n",
    "display.Markdown(f'[{issue.html_url}]({issue.html_url})')"
   ]
  },
  {
   "cell_type": "markdown",
   "metadata": {},
   "source": [
    "## Extract Data For Training ML Models\n",
    "\n",
    "`Issue, Label` pairs"
   ]
  },
  {
   "cell_type": "markdown",
   "metadata": {},
   "source": [
    "Get a list of issues which you can use to train models"
   ]
  },
  {
   "cell_type": "code",
   "execution_count": 5,
   "metadata": {},
   "outputs": [
    {
     "name": "stderr",
     "output_type": "stream",
     "text": [
      "100%|██████████| 486/486 [03:40<00:00,  3.15it/s]\n"
     ]
    }
   ],
   "source": [
    "issues = GitHubApp.unpack_issues(client=install, \n",
    "                                 owner='kubeflow',\n",
    "                                 repo='kubeflow')"
   ]
  },
  {
   "cell_type": "code",
   "execution_count": 6,
   "metadata": {
    "scrolled": false
   },
   "outputs": [
    {
     "name": "stdout",
     "output_type": "stream",
     "text": [
      "there are 371 issues with labels\n"
     ]
    }
   ],
   "source": [
    "print(f'there are {len(issues)} issues with labels')"
   ]
  },
  {
   "cell_type": "code",
   "execution_count": 24,
   "metadata": {},
   "outputs": [
    {
     "name": "stdout",
     "output_type": "stream",
     "text": [
      "move admission webhook to gcp\n",
      "\n",
      "==Issue Body==\n",
      "also install by kfctl/bootstrap\r\n",
      "\r\n",
      "#2641 \r\n",
      "\r\n",
      "/cc @kunmingg\n",
      "\n",
      "<!-- Reviewable:start -->\n",
      "---\n",
      "This change is [<img src=\"https://reviewable.io/review_button.svg\" height=\"34\" align=\"absmiddle\" alt=\"Reviewable\"/>](https://reviewable.io/reviews/kubeflow/kubeflow/2781)\n",
      "<!-- Reviewable:end -->\n",
      "\n",
      "\n",
      "==Labels==\n",
      "['cla: yes', 'size/M']\n"
     ]
    }
   ],
   "source": [
    "print(issues[0].title)\n",
    "print('\\n==Issue Body==')\n",
    "print(issues[0].body)\n",
    "print('\\n==Labels==')\n",
    "print(issues[0].labels)\n",
    "print('\\n==Labels==')\n",
    "print(issues[0].url)"
   ]
  },
  {
   "cell_type": "code",
   "execution_count": null,
   "metadata": {},
   "outputs": [],
   "source": []
  }
 ],
 "metadata": {
  "kernelspec": {
   "display_name": "Python 3",
   "language": "python",
   "name": "python3"
  },
  "language_info": {
   "codemirror_mode": {
    "name": "ipython",
    "version": 3
   },
   "file_extension": ".py",
   "mimetype": "text/x-python",
   "name": "python",
   "nbconvert_exporter": "python",
   "pygments_lexer": "ipython3",
   "version": "3.6.3"
  }
 },
 "nbformat": 4,
 "nbformat_minor": 2
}
